{
 "cells": [
  {
   "cell_type": "code",
   "execution_count": 108,
   "metadata": {},
   "outputs": [],
   "source": [
    "import numpy as np\n",
    "import matplotlib.pyplot as plt\n",
    "import seaborn as sns\n",
    "\n",
    "def make_confusion_matrix(cf,\n",
    "                          group_names=None,\n",
    "                          categories='auto',\n",
    "                          count=True,\n",
    "                          percent=True,\n",
    "                          cbar=True,\n",
    "                          xyticks=True,\n",
    "                          xyplotlabels=True,\n",
    "                          sum_stats=True,\n",
    "                          figsize=None,\n",
    "                          cmap='Blues',\n",
    "                          title=None):\n",
    "    # CODE TO GENERATE TEXT INSIDE EACH SQUARE\n",
    "    blanks = ['' for i in range(cf.size)]\n",
    "    if group_names and len(group_names)==cf.size:\n",
    "        group_labels = [\"{}\\n\".format(value) for value in group_names]\n",
    "    else:\n",
    "        group_labels = blanks\n",
    "    if count:\n",
    "        group_counts = [\"{0:0.0f}\\n\".format(value) for value in cf.flatten()]\n",
    "    else:\n",
    "        group_counts = blanks\n",
    "    if percent:\n",
    "        group_percentages = [\"{0:.2%}\".format(value) for value in cf.flatten()/np.sum(cf)]\n",
    "    else:\n",
    "        group_percentages = blanks\n",
    "    box_labels = [f\"{v1}{v2}{v3}\".strip() for v1, v2, v3 in zip(group_labels,group_counts,group_percentages)]\n",
    "    box_labels = np.asarray(box_labels).reshape(cf.shape[0],cf.shape[1])\n",
    "    # CODE TO GENERATE SUMMARY STATISTICS & TEXT FOR SUMMARY STATS\n",
    "    if sum_stats:\n",
    "        #Accuracy is sum of diagonal divided by total observations\n",
    "        accuracy  = np.trace(cf) / float(np.sum(cf))\n",
    "        #if it is a binary confusion matrix, show some more stats\n",
    "        if len(cf)==2:\n",
    "            #Metrics for Binary Confusion Matrices\n",
    "            precision = cf[1,1] / sum(cf[:,1])\n",
    "            recall    = cf[1,1] / sum(cf[1,:])\n",
    "            f1_score  = 2*precision*recall / (precision + recall)\n",
    "            stats_texbt = \"\\n\\nAccuracy={:0.3f}\\nPrecision={:0.3f}\\nRecall={:0.3f}\\nF1 Score={:0.3f}\".format(\n",
    "                accuracy,precision,recall,f1_score)\n",
    "        else:\n",
    "            stats_text = \"\\n\\nAccuracy={:0.3f}\".format(accuracy)\n",
    "    else:\n",
    "        stats_text = \"\"\n",
    "    # SET FIGURE PARAMETERS ACCORDING TO OTHER ARGUMENTS\n",
    "    if figsize==None:\n",
    "        #Get default figure size if not set\n",
    "        figsize = plt.rcParams.get('figure.figsize')\n",
    "    if xyticks==False:\n",
    "        #Do not show categories if xyticks is False\n",
    "        categories=False\n",
    "    # MAKE THE HEATMAP VISUALIZATION\n",
    "    plt.figure(figsize=figsize)\n",
    "    sns.heatmap(cf,annot=box_labels,fmt=\"\",cmap=cmap,cbar=cbar,xticklabels=categories,yticklabels=categories)\n",
    "    if xyplotlabels:\n",
    "        plt.ylabel('True label')\n",
    "        plt.xlabel('Predicted label' + stats_text)\n",
    "    else:\n",
    "        plt.xlabel(stats_text)\n",
    "    if title:\n",
    "        plt.title(title)"
   ]
  },
  {
   "cell_type": "code",
   "execution_count": 1,
   "metadata": {},
   "outputs": [
    {
     "name": "stdout",
     "output_type": "stream",
     "text": [
      "Requirement already satisfied: xgboost in c:\\users\\khoi\\anaconda3\\lib\\site-packages (1.2.1)\n",
      "Requirement already satisfied: scipy in c:\\users\\khoi\\anaconda3\\lib\\site-packages (from xgboost) (1.4.1)\n",
      "Requirement already satisfied: numpy in c:\\users\\khoi\\anaconda3\\lib\\site-packages (from xgboost) (1.18.1)\n"
     ]
    }
   ],
   "source": [
    "!pip install xgboost"
   ]
  },
  {
   "cell_type": "code",
   "execution_count": 2,
   "metadata": {},
   "outputs": [],
   "source": [
    "\n",
    "import pandas as pd\n",
    "import numpy as np\n",
    "from xgboost import XGBClassifier\n",
    "import xgboost as xgb\n",
    "from sklearn.model_selection import train_test_split\n",
    "from sklearn.metrics import plot_roc_curve, auc, roc_auc_score\n",
    "from sklearn.metrics import confusion_matrix, classification_report\n",
    "import matplotlib.pyplot as plt\n",
    "from sklearn.metrics import plot_confusion_matrix\n",
    "import seaborn as sns"
   ]
  },
  {
   "cell_type": "code",
   "execution_count": 3,
   "metadata": {},
   "outputs": [
    {
     "data": {
      "text/plain": [
       "(17639, 50)"
      ]
     },
     "execution_count": 3,
     "metadata": {},
     "output_type": "execute_result"
    }
   ],
   "source": [
    "data = pd.read_csv('finaldata_w_xy_and_dummies1.csv')\n",
    "data = data.drop(columns='Unnamed: 0')\n",
    "data.shape"
   ]
  },
  {
   "cell_type": "code",
   "execution_count": 4,
   "metadata": {},
   "outputs": [
    {
     "data": {
      "text/plain": [
       "Index(['gameId', 'playId', 'x', 'y', 'nflId', 'event', 'displayName',\n",
       "       'frameId', 'targetNflId', 'Opp_Dist', 'closestOpp_Id', 'Team_Dist',\n",
       "       'closestTeam_Id', 'QB_Dist', 'closestQB_Id', 'FootDist', 'quarter',\n",
       "       'down', 'yardsToGo', 'defendersInTheBox', 'numberOfPassRushers',\n",
       "       'absoluteYardlineNumber', 'passResult', 'penalty', 'height', 'weight',\n",
       "       'position_CB', 'position_DB', 'position_DE', 'position_DT',\n",
       "       'position_FB', 'position_HB', 'position_K', 'position_QB',\n",
       "       'position_RB', 'position_TE', 'position_WR', 'route_ANGLE',\n",
       "       'route_CORNER', 'route_CROSS', 'route_FLAT', 'route_GO', 'route_HITCH',\n",
       "       'route_IN', 'route_OUT', 'route_POST', 'route_SCREEN', 'route_SLANT',\n",
       "       'route_WHEEL', 'route_undefined'],\n",
       "      dtype='object')"
      ]
     },
     "execution_count": 4,
     "metadata": {},
     "output_type": "execute_result"
    }
   ],
   "source": [
    "data.columns"
   ]
  },
  {
   "cell_type": "code",
   "execution_count": 24,
   "metadata": {},
   "outputs": [
    {
     "data": {
      "text/plain": [
       "(17639, 35)"
      ]
     },
     "execution_count": 24,
     "metadata": {},
     "output_type": "execute_result"
    }
   ],
   "source": [
    "df = data[['passResult','quarter','down','yardsToGo','Opp_Dist','Team_Dist','QB_Dist','FootDist',\\\n",
    "           'defendersInTheBox','numberOfPassRushers','height','weight','position_CB', 'position_DB', \\\n",
    "           'position_DE', 'position_DT','position_FB', 'position_HB', 'position_K', 'position_QB', \\\n",
    "           'position_RB', 'position_TE', 'position_WR', 'route_ANGLE','route_CORNER', 'route_CROSS', \\\n",
    "           'route_FLAT', 'route_GO', 'route_HITCH', 'route_IN', 'route_OUT', 'route_POST', \\\n",
    "           'route_SCREEN', 'route_SLANT','route_WHEEL',]]\n",
    "df.shape"
   ]
  },
  {
   "cell_type": "code",
   "execution_count": 25,
   "metadata": {},
   "outputs": [
    {
     "name": "stderr",
     "output_type": "stream",
     "text": [
      "C:\\Users\\Khoi\\anaconda3\\lib\\site-packages\\ipykernel_launcher.py:5: SettingWithCopyWarning: \n",
      "A value is trying to be set on a copy of a slice from a DataFrame.\n",
      "Try using .loc[row_indexer,col_indexer] = value instead\n",
      "\n",
      "See the caveats in the documentation: https://pandas.pydata.org/pandas-docs/stable/user_guide/indexing.html#returning-a-view-versus-a-copy\n",
      "  \"\"\"\n"
     ]
    },
    {
     "data": {
      "text/plain": [
       "(17639, 35)"
      ]
     },
     "execution_count": 25,
     "metadata": {},
     "output_type": "execute_result"
    }
   ],
   "source": [
    "# format heigh to number in inches\n",
    "height_dict = {'5-10':70,'6-5':77, '6-4':76, '6-3':75, '6-2':74, '6-1':73, '6-0':72, '5-11':71, \\\n",
    "               '5-9':69, '5-8':68, '5-7':67, '5-6':66,'6-7':79,'6-6':78,'64':64,'65':65,'66':66,'67':67,'68':68, \\\n",
    "              '69':69,'70':70,'71':71,'72':72,'73':73,'74':74,'75':75,'76':76,'77':77,'78':78,'79':79,'80':80}\n",
    "df['height'] = data['height'].map(height_dict) \n",
    "df.shape"
   ]
  },
  {
   "cell_type": "code",
   "execution_count": 95,
   "metadata": {},
   "outputs": [
    {
     "name": "stderr",
     "output_type": "stream",
     "text": [
      "C:\\Users\\Khoi\\anaconda3\\lib\\site-packages\\ipykernel_launcher.py:1: SettingWithCopyWarning: \n",
      "A value is trying to be set on a copy of a slice from a DataFrame\n",
      "\n",
      "See the caveats in the documentation: https://pandas.pydata.org/pandas-docs/stable/user_guide/indexing.html#returning-a-view-versus-a-copy\n",
      "  \"\"\"Entry point for launching an IPython kernel.\n",
      "C:\\Users\\Khoi\\anaconda3\\lib\\site-packages\\ipykernel_launcher.py:2: SettingWithCopyWarning: \n",
      "A value is trying to be set on a copy of a slice from a DataFrame\n",
      "\n",
      "See the caveats in the documentation: https://pandas.pydata.org/pandas-docs/stable/user_guide/indexing.html#returning-a-view-versus-a-copy\n",
      "  \n"
     ]
    },
    {
     "data": {
      "text/plain": [
       "(17624, 35)"
      ]
     },
     "execution_count": 95,
     "metadata": {},
     "output_type": "execute_result"
    }
   ],
   "source": [
    "df.dropna(subset=['QB_Dist'], inplace = True)\n",
    "df.dropna(subset=['defendersInTheBox'], inplace = True)\n",
    "df.shape"
   ]
  },
  {
   "cell_type": "code",
   "execution_count": 96,
   "metadata": {},
   "outputs": [
    {
     "data": {
      "text/plain": [
       "quarter                14099\n",
       "down                   14099\n",
       "yardsToGo              14099\n",
       "Opp_Dist               14099\n",
       "Team_Dist              14099\n",
       "QB_Dist                14099\n",
       "FootDist               14099\n",
       "defendersInTheBox      14099\n",
       "numberOfPassRushers    14099\n",
       "height                 14099\n",
       "weight                 14099\n",
       "position_CB            14099\n",
       "position_DB            14099\n",
       "position_DE            14099\n",
       "position_DT            14099\n",
       "position_FB            14099\n",
       "position_HB            14099\n",
       "position_K             14099\n",
       "position_QB            14099\n",
       "position_RB            14099\n",
       "position_TE            14099\n",
       "position_WR            14099\n",
       "route_ANGLE            14099\n",
       "route_CORNER           14099\n",
       "route_CROSS            14099\n",
       "route_FLAT             14099\n",
       "route_GO               14099\n",
       "route_HITCH            14099\n",
       "route_IN               14099\n",
       "route_OUT              14099\n",
       "route_POST             14099\n",
       "route_SCREEN           14099\n",
       "route_SLANT            14099\n",
       "route_WHEEL            14099\n",
       "dtype: int64"
      ]
     },
     "execution_count": 96,
     "metadata": {},
     "output_type": "execute_result"
    }
   ],
   "source": [
    "# Split data into train, validation, test\n",
    "X = df.drop(['passResult'], axis=1)\n",
    "y = df['passResult']\n",
    "\n",
    "X_train, X_test, y_train, y_test = train_test_split(X, y, test_size=0.20, random_state=42)\n",
    "X_train.count()"
   ]
  },
  {
   "cell_type": "code",
   "execution_count": 102,
   "metadata": {},
   "outputs": [
    {
     "data": {
      "text/plain": [
       "GridSearchCV(cv=None, error_score=nan,\n",
       "             estimator=SVC(C=1.0, break_ties=False, cache_size=200,\n",
       "                           class_weight=None, coef0=0.0,\n",
       "                           decision_function_shape='ovr', degree=3,\n",
       "                           gamma='scale', kernel='rbf', max_iter=-1,\n",
       "                           probability=False, random_state=None, shrinking=True,\n",
       "                           tol=0.001, verbose=False),\n",
       "             iid='deprecated', n_jobs=None,\n",
       "             param_grid={'C': [1, 100], 'degree': [1, 2, 3, 4, 5, 6],\n",
       "                         'kernel': ['rbf', 'poly', 'sigmoid', 'linear']},\n",
       "             pre_dispatch='2*n_jobs', refit=True, return_train_score=False,\n",
       "             scoring=None, verbose=0)"
      ]
     },
     "execution_count": 102,
     "metadata": {},
     "output_type": "execute_result"
    }
   ],
   "source": [
    "from sklearn.svm import SVC\n",
    "from sklearn.model_selection import GridSearchCV\n",
    "svc = SVC()\n",
    "paramsvc = {'C':[1,100], 'kernel':['rbf','poly','sigmoid','linear'], 'degree':[1,2,3,4,5,6]}\n",
    "gridsvc = GridSearchCV(svc,paramsvc)\n",
    "gridsvc.fit(X_train, y_train)\n"
   ]
  },
  {
   "cell_type": "code",
   "execution_count": 118,
   "metadata": {},
   "outputs": [
    {
     "data": {
      "text/plain": [
       "SVC(C=1, break_ties=False, cache_size=200, class_weight=None, coef0=0.0,\n",
       "    decision_function_shape='ovr', degree=1, gamma='scale', kernel='linear',\n",
       "    max_iter=-1, probability=False, random_state=None, shrinking=True,\n",
       "    tol=0.001, verbose=False)"
      ]
     },
     "execution_count": 118,
     "metadata": {},
     "output_type": "execute_result"
    }
   ],
   "source": [
    "gridsvc.best_estimator_\n"
   ]
  },
  {
   "cell_type": "code",
   "execution_count": 121,
   "metadata": {},
   "outputs": [
    {
     "data": {
      "text/plain": [
       "SVC(C=1, break_ties=False, cache_size=200, class_weight=None, coef0=0.0,\n",
       "    decision_function_shape='ovr', degree=1, gamma='scale', kernel='linear',\n",
       "    max_iter=-1, probability=True, random_state=None, shrinking=True, tol=0.001,\n",
       "    verbose=False)"
      ]
     },
     "execution_count": 121,
     "metadata": {},
     "output_type": "execute_result"
    }
   ],
   "source": [
    "svc1 = SVC(C=1, break_ties=False, cache_size=200, class_weight=None, coef0=0.0,\n",
    "    decision_function_shape='ovr', degree=1, gamma='scale', kernel='linear',\n",
    "    max_iter=-1, probability=True, random_state=None, shrinking=True,\n",
    "    tol=0.001, verbose=False)\n",
    "svc1.fit(X_train, y_train)"
   ]
  },
  {
   "cell_type": "code",
   "execution_count": 122,
   "metadata": {},
   "outputs": [],
   "source": [
    "y_pred1 = svc1.predict_proba(X_test)[:,1]"
   ]
  },
  {
   "cell_type": "code",
   "execution_count": 124,
   "metadata": {},
   "outputs": [
    {
     "data": {
      "text/plain": [
       "0.7332414800904832"
      ]
     },
     "execution_count": 124,
     "metadata": {},
     "output_type": "execute_result"
    }
   ],
   "source": [
    "roc1 = roc_auc_score(y_test, y_pred1)\n",
    "roc1"
   ]
  },
  {
   "cell_type": "code",
   "execution_count": 117,
   "metadata": {},
   "outputs": [
    {
     "ename": "AttributeError",
     "evalue": "predict_proba is not available when  probability=False",
     "output_type": "error",
     "traceback": [
      "\u001b[1;31m---------------------------------------------------------------------------\u001b[0m",
      "\u001b[1;31mAttributeError\u001b[0m                            Traceback (most recent call last)",
      "\u001b[1;32m<ipython-input-117-0b93ff107831>\u001b[0m in \u001b[0;36m<module>\u001b[1;34m\u001b[0m\n\u001b[1;32m----> 1\u001b[1;33m \u001b[0my_pred\u001b[0m \u001b[1;33m=\u001b[0m \u001b[0mgridsvc\u001b[0m\u001b[1;33m.\u001b[0m\u001b[0mbest_estimator_\u001b[0m\u001b[1;33m.\u001b[0m\u001b[0mpredict_proba\u001b[0m\u001b[1;33m(\u001b[0m\u001b[0mX_test\u001b[0m\u001b[1;33m)\u001b[0m\u001b[1;33m[\u001b[0m\u001b[1;33m:\u001b[0m\u001b[1;33m,\u001b[0m\u001b[1;36m1\u001b[0m\u001b[1;33m]\u001b[0m\u001b[1;33m\u001b[0m\u001b[1;33m\u001b[0m\u001b[0m\n\u001b[0m",
      "\u001b[1;32m~\\anaconda3\\lib\\site-packages\\sklearn\\svm\\_base.py\u001b[0m in \u001b[0;36mpredict_proba\u001b[1;34m(self)\u001b[0m\n\u001b[0;32m    634\u001b[0m         \u001b[0mdatasets\u001b[0m\u001b[1;33m.\u001b[0m\u001b[1;33m\u001b[0m\u001b[1;33m\u001b[0m\u001b[0m\n\u001b[0;32m    635\u001b[0m         \"\"\"\n\u001b[1;32m--> 636\u001b[1;33m         \u001b[0mself\u001b[0m\u001b[1;33m.\u001b[0m\u001b[0m_check_proba\u001b[0m\u001b[1;33m(\u001b[0m\u001b[1;33m)\u001b[0m\u001b[1;33m\u001b[0m\u001b[1;33m\u001b[0m\u001b[0m\n\u001b[0m\u001b[0;32m    637\u001b[0m         \u001b[1;32mreturn\u001b[0m \u001b[0mself\u001b[0m\u001b[1;33m.\u001b[0m\u001b[0m_predict_proba\u001b[0m\u001b[1;33m\u001b[0m\u001b[1;33m\u001b[0m\u001b[0m\n\u001b[0;32m    638\u001b[0m \u001b[1;33m\u001b[0m\u001b[0m\n",
      "\u001b[1;32m~\\anaconda3\\lib\\site-packages\\sklearn\\svm\\_base.py\u001b[0m in \u001b[0;36m_check_proba\u001b[1;34m(self)\u001b[0m\n\u001b[0;32m    601\u001b[0m     \u001b[1;32mdef\u001b[0m \u001b[0m_check_proba\u001b[0m\u001b[1;33m(\u001b[0m\u001b[0mself\u001b[0m\u001b[1;33m)\u001b[0m\u001b[1;33m:\u001b[0m\u001b[1;33m\u001b[0m\u001b[1;33m\u001b[0m\u001b[0m\n\u001b[0;32m    602\u001b[0m         \u001b[1;32mif\u001b[0m \u001b[1;32mnot\u001b[0m \u001b[0mself\u001b[0m\u001b[1;33m.\u001b[0m\u001b[0mprobability\u001b[0m\u001b[1;33m:\u001b[0m\u001b[1;33m\u001b[0m\u001b[1;33m\u001b[0m\u001b[0m\n\u001b[1;32m--> 603\u001b[1;33m             raise AttributeError(\"predict_proba is not available when \"\n\u001b[0m\u001b[0;32m    604\u001b[0m                                  \" probability=False\")\n\u001b[0;32m    605\u001b[0m         \u001b[1;32mif\u001b[0m \u001b[0mself\u001b[0m\u001b[1;33m.\u001b[0m\u001b[0m_impl\u001b[0m \u001b[1;32mnot\u001b[0m \u001b[1;32min\u001b[0m \u001b[1;33m(\u001b[0m\u001b[1;34m'c_svc'\u001b[0m\u001b[1;33m,\u001b[0m \u001b[1;34m'nu_svc'\u001b[0m\u001b[1;33m)\u001b[0m\u001b[1;33m:\u001b[0m\u001b[1;33m\u001b[0m\u001b[1;33m\u001b[0m\u001b[0m\n",
      "\u001b[1;31mAttributeError\u001b[0m: predict_proba is not available when  probability=False"
     ]
    }
   ],
   "source": [
    "y_pred = gridsvc.best_estimator_.predict_proba(X_test)[:,1]\n"
   ]
  },
  {
   "cell_type": "code",
   "execution_count": 107,
   "metadata": {},
   "outputs": [
    {
     "data": {
      "text/plain": [
       "0.6707734849541913"
      ]
     },
     "execution_count": 107,
     "metadata": {},
     "output_type": "execute_result"
    }
   ],
   "source": [
    "roc = roc_auc_score(y_test, y_pred)\n",
    "roc"
   ]
  },
  {
   "cell_type": "code",
   "execution_count": 115,
   "metadata": {},
   "outputs": [
    {
     "data": {
      "text/plain": [
       "0.8029405758627731"
      ]
     },
     "execution_count": 115,
     "metadata": {},
     "output_type": "execute_result"
    }
   ],
   "source": [
    "from sklearn.metrics import f1_score\n",
    "f1svc = f1_score(y_test,y_pred)\n",
    "f1svc"
   ]
  },
  {
   "cell_type": "code",
   "execution_count": 125,
   "metadata": {},
   "outputs": [],
   "source": [
    "from sklearn.ensemble import RandomForestClassifier\n",
    "rfc = RandomForestClassifier(n_estimators = 180, max_features ='sqrt')\n",
    "rfc.fit(X_train, y_train)\n",
    "y_predrfc = rfc.predict_proba(X_test)[:,1]"
   ]
  },
  {
   "cell_type": "code",
   "execution_count": 111,
   "metadata": {},
   "outputs": [
    {
     "data": {
      "text/plain": [
       "0.7228368794326241"
      ]
     },
     "execution_count": 111,
     "metadata": {},
     "output_type": "execute_result"
    }
   ],
   "source": [
    "rfc.score(X_test,y_test)"
   ]
  },
  {
   "cell_type": "code",
   "execution_count": 126,
   "metadata": {},
   "outputs": [
    {
     "data": {
      "text/plain": [
       "0.736609852377244"
      ]
     },
     "execution_count": 126,
     "metadata": {},
     "output_type": "execute_result"
    }
   ],
   "source": [
    "rfcroc = roc_auc_score(y_test, y_predrfc)\n",
    "rfcroc"
   ]
  },
  {
   "cell_type": "code",
   "execution_count": 116,
   "metadata": {},
   "outputs": [
    {
     "data": {
      "text/plain": [
       "0.8046390721855629"
      ]
     },
     "execution_count": 116,
     "metadata": {},
     "output_type": "execute_result"
    }
   ],
   "source": [
    "f1rf = f1_score(y_test,y_predrfc)\n",
    "f1rf"
   ]
  },
  {
   "cell_type": "code",
   "execution_count": null,
   "metadata": {},
   "outputs": [],
   "source": []
  },
  {
   "cell_type": "code",
   "execution_count": null,
   "metadata": {},
   "outputs": [],
   "source": []
  },
  {
   "cell_type": "code",
   "execution_count": null,
   "metadata": {},
   "outputs": [],
   "source": []
  },
  {
   "cell_type": "code",
   "execution_count": null,
   "metadata": {},
   "outputs": [],
   "source": []
  },
  {
   "cell_type": "code",
   "execution_count": null,
   "metadata": {},
   "outputs": [],
   "source": []
  },
  {
   "cell_type": "code",
   "execution_count": null,
   "metadata": {},
   "outputs": [],
   "source": []
  },
  {
   "cell_type": "code",
   "execution_count": null,
   "metadata": {},
   "outputs": [],
   "source": []
  },
  {
   "cell_type": "code",
   "execution_count": 305,
   "metadata": {},
   "outputs": [
    {
     "name": "stdout",
     "output_type": "stream",
     "text": [
      "[0]\tvalidation_0-auc:0.70810\tvalidation_0-error:0.28053\n",
      "Multiple eval metrics have been passed: 'validation_0-error' will be used for early stopping.\n",
      "\n",
      "Will train until validation_0-error hasn't improved in 50 rounds.\n",
      "[1]\tvalidation_0-auc:0.72811\tvalidation_0-error:0.28597\n",
      "[2]\tvalidation_0-auc:0.73429\tvalidation_0-error:0.28628\n",
      "[3]\tvalidation_0-auc:0.73862\tvalidation_0-error:0.28567\n",
      "[4]\tvalidation_0-auc:0.73808\tvalidation_0-error:0.28386\n",
      "[5]\tvalidation_0-auc:0.73997\tvalidation_0-error:0.28507\n",
      "[6]\tvalidation_0-auc:0.73977\tvalidation_0-error:0.28174\n",
      "[7]\tvalidation_0-auc:0.73991\tvalidation_0-error:0.28053\n",
      "[8]\tvalidation_0-auc:0.73944\tvalidation_0-error:0.28053\n",
      "[9]\tvalidation_0-auc:0.74036\tvalidation_0-error:0.28174\n",
      "[10]\tvalidation_0-auc:0.74011\tvalidation_0-error:0.27993\n",
      "[11]\tvalidation_0-auc:0.73874\tvalidation_0-error:0.28144\n",
      "[12]\tvalidation_0-auc:0.73958\tvalidation_0-error:0.28083\n",
      "[13]\tvalidation_0-auc:0.73959\tvalidation_0-error:0.28174\n",
      "[14]\tvalidation_0-auc:0.74000\tvalidation_0-error:0.28083\n",
      "[15]\tvalidation_0-auc:0.74082\tvalidation_0-error:0.28204\n",
      "[16]\tvalidation_0-auc:0.74082\tvalidation_0-error:0.28204\n",
      "[17]\tvalidation_0-auc:0.74082\tvalidation_0-error:0.28174\n",
      "[18]\tvalidation_0-auc:0.74082\tvalidation_0-error:0.28174\n",
      "[19]\tvalidation_0-auc:0.74082\tvalidation_0-error:0.28174\n",
      "[20]\tvalidation_0-auc:0.74082\tvalidation_0-error:0.28174\n",
      "[21]\tvalidation_0-auc:0.74082\tvalidation_0-error:0.28174\n",
      "[22]\tvalidation_0-auc:0.74082\tvalidation_0-error:0.28174\n",
      "[23]\tvalidation_0-auc:0.74207\tvalidation_0-error:0.28265\n",
      "[24]\tvalidation_0-auc:0.74174\tvalidation_0-error:0.28265\n",
      "[25]\tvalidation_0-auc:0.74232\tvalidation_0-error:0.28083\n",
      "[26]\tvalidation_0-auc:0.74202\tvalidation_0-error:0.28083\n",
      "[27]\tvalidation_0-auc:0.73978\tvalidation_0-error:0.27993\n",
      "[28]\tvalidation_0-auc:0.73759\tvalidation_0-error:0.28174\n",
      "[29]\tvalidation_0-auc:0.73856\tvalidation_0-error:0.28053\n",
      "[30]\tvalidation_0-auc:0.73850\tvalidation_0-error:0.28114\n",
      "[31]\tvalidation_0-auc:0.73824\tvalidation_0-error:0.28144\n",
      "[32]\tvalidation_0-auc:0.73858\tvalidation_0-error:0.28325\n",
      "[33]\tvalidation_0-auc:0.73883\tvalidation_0-error:0.28356\n",
      "[34]\tvalidation_0-auc:0.73838\tvalidation_0-error:0.28416\n",
      "[35]\tvalidation_0-auc:0.73839\tvalidation_0-error:0.28386\n",
      "[36]\tvalidation_0-auc:0.73839\tvalidation_0-error:0.28386\n",
      "[37]\tvalidation_0-auc:0.73839\tvalidation_0-error:0.28386\n",
      "[38]\tvalidation_0-auc:0.73839\tvalidation_0-error:0.28386\n",
      "[39]\tvalidation_0-auc:0.73839\tvalidation_0-error:0.28386\n",
      "[40]\tvalidation_0-auc:0.73839\tvalidation_0-error:0.28386\n",
      "[41]\tvalidation_0-auc:0.73839\tvalidation_0-error:0.28386\n",
      "[42]\tvalidation_0-auc:0.73839\tvalidation_0-error:0.28386\n",
      "[43]\tvalidation_0-auc:0.73839\tvalidation_0-error:0.28386\n",
      "[44]\tvalidation_0-auc:0.73839\tvalidation_0-error:0.28386\n",
      "[45]\tvalidation_0-auc:0.73839\tvalidation_0-error:0.28386\n",
      "[46]\tvalidation_0-auc:0.73839\tvalidation_0-error:0.28386\n",
      "[47]\tvalidation_0-auc:0.73839\tvalidation_0-error:0.28386\n",
      "[48]\tvalidation_0-auc:0.73839\tvalidation_0-error:0.28386\n",
      "[49]\tvalidation_0-auc:0.73839\tvalidation_0-error:0.28386\n",
      "[50]\tvalidation_0-auc:0.73839\tvalidation_0-error:0.28386\n",
      "[51]\tvalidation_0-auc:0.73839\tvalidation_0-error:0.28386\n",
      "[52]\tvalidation_0-auc:0.73839\tvalidation_0-error:0.28386\n",
      "[53]\tvalidation_0-auc:0.73839\tvalidation_0-error:0.28386\n",
      "[54]\tvalidation_0-auc:0.73839\tvalidation_0-error:0.28386\n",
      "[55]\tvalidation_0-auc:0.73839\tvalidation_0-error:0.28386\n",
      "[56]\tvalidation_0-auc:0.73839\tvalidation_0-error:0.28386\n",
      "[57]\tvalidation_0-auc:0.73839\tvalidation_0-error:0.28386\n",
      "[58]\tvalidation_0-auc:0.73839\tvalidation_0-error:0.28386\n",
      "[59]\tvalidation_0-auc:0.73839\tvalidation_0-error:0.28386\n",
      "[60]\tvalidation_0-auc:0.73839\tvalidation_0-error:0.28386\n",
      "Stopping. Best iteration:\n",
      "[10]\tvalidation_0-auc:0.74011\tvalidation_0-error:0.27993\n",
      "\n"
     ]
    }
   ],
   "source": [
    "clf = XGBClassifier(n_estimators=1000, random_state=42,\n",
    "                     booster='gbtree', objective='binary:logistic',\n",
    "                      eval_metric = [\"auc\",\"error\"],\n",
    "                     colsample_bylevel=1,\n",
    "                     colsample_bytree=1,\n",
    "                     gamma=5,\n",
    "                     learning_rate=0.3,\n",
    "                      max_depth=6,\n",
    "                      min_child_weight=1,\n",
    "                      subsample=1\n",
    "                     )\n",
    "\n",
    "clf.fit(X_train, y_train, early_stopping_rounds=50,\n",
    "          eval_set=[(X_val, y_val)])\n",
    "\n",
    "# XGBClassifier(base_score=0.5, booster='gbtree', colsample_bylevel=1,\n",
    "#               colsample_bynode=1, colsample_bytree=1, gamma=0, gpu_id=-1,\n",
    "#               importance_type='gain', interaction_constraints='',\n",
    "#               learning_rate=0.300000012, max_delta_step=0, max_depth=6,\n",
    "#               min_child_weight=1, missing=nan, monotone_constraints='()',\n",
    "#               n_estimators=1000, n_jobs=0, num_parallel_tree=1,\n",
    "#               objective='binary:logistic', random_state=42, reg_alpha=0,\n",
    "#               reg_lambda=1, scale_pos_weight=1, subsample=1,\n",
    "#               tree_method='exact', validate_parameters=1, verbosity=None)\n",
    "\n",
    "y_pred = clf.predict(X_test)"
   ]
  },
  {
   "cell_type": "code",
   "execution_count": 307,
   "metadata": {},
   "outputs": [
    {
     "data": {
      "image/png": "[encoded data removed]",
      "text/plain": [
       "<Figure size 720x360 with 2 Axes>"
      ]
     },
     "metadata": {},
     "output_type": "display_data"
    },
    {
     "data": {
      "image/png": "[encoded data removed]",
      "text/plain": [
       "<Figure size 432x288 with 2 Axes>"
      ]
     },
     "metadata": {},
     "output_type": "display_data"
    }
   ],
   "source": [
    "fig, (ax1,ax2) = plt.subplots(1,2, figsize=(10,5))\n",
    "plt.style.use('fivethirtyeight')\n",
    "\n",
    "# Create and fit selector\n",
    "feat = df.drop(columns='passResult')\n",
    "feat_importances = pd.Series(clf.feature_importances_, index=feat.columns)\n",
    "feat_importances.nlargest(5).plot(kind='barh',ax=ax1)\n",
    "\n",
    "plot_roc_curve(clf, X_test, y_test, ax=ax2)\n",
    "# Plot baseline. (Perfect overlap between the two populations.)\n",
    "plt.plot(np.linspace(0, 1, 200),\n",
    "         np.linspace(0, 1, 200),\n",
    "         label='baseline',\n",
    "         linestyle='--')\n",
    "\n",
    "score = roc_auc_score(y_test, clf.predict_proba(X_test)[:,1])\n",
    "\n",
    "# Label axes.\n",
    "plt.title(f\"ROC Curve with AUC = {round(score,3)}\")\n",
    "plt.ylabel('Sensitivity')\n",
    "plt.xlabel('1 - Specificity')\n",
    "# Create legend.\n",
    "plt.legend();\n",
    "plt.subplots_adjust(hspace = .5)\n",
    "\n",
    "\n",
    "cm = confusion_matrix(y_test, y_pred)\n",
    "\n",
    "labels = ['True Neg','False Pos','False Neg','True Pos']\n",
    "categories = ['Zero', 'One']\n",
    "\n",
    "make_confusion_matrix(cm, \n",
    "                      group_names=labels,\n",
    "                      categories=categories, \n",
    "                      cmap='binary')"
   ]
  },
  {
   "cell_type": "code",
   "execution_count": 308,
   "metadata": {},
   "outputs": [
    {
     "name": "stdout",
     "output_type": "stream",
     "text": [
      "Baseline accuracy score: 0.6168\n",
      "XGBoost model accuracy score: 0.7254\n",
      "Percent improvement: 0.1086\n"
     ]
    }
   ],
   "source": [
    "from sklearn.metrics import accuracy_score\n",
    "baseline = (y_test == 1).sum()/len(y_test)\n",
    "accuracy = accuracy_score(y_test, y_pred)\n",
    "print('Baseline accuracy score: {0:0.4f}'. format(baseline))\n",
    "print('XGBoost model accuracy score: {0:0.4f}'. format(accuracy_score(y_test, y_pred)))\n",
    "print('Percent improvement: {0:0.4f}'. format(accuracy-baseline))"
   ]
  },
  {
   "cell_type": "code",
   "execution_count": 309,
   "metadata": {},
   "outputs": [
    {
     "name": "stdout",
     "output_type": "stream",
     "text": [
      "              precision    recall  f1-score   support\n",
      "\n",
      "           0       0.76      0.41      0.54      1690\n",
      "           1       0.72      0.92      0.80      2720\n",
      "\n",
      "    accuracy                           0.73      4410\n",
      "   macro avg       0.74      0.67      0.67      4410\n",
      "weighted avg       0.73      0.73      0.70      4410\n",
      "\n"
     ]
    }
   ],
   "source": [
    "print(classification_report(y_test, y_pred))"
   ]
  },
  {
   "cell_type": "code",
   "execution_count": 310,
   "metadata": {},
   "outputs": [
    {
     "data": {
      "text/plain": [
       "route_GO               0.304898\n",
       "QB_Dist                0.140870\n",
       "route_POST             0.087166\n",
       "route_SCREEN           0.062989\n",
       "route_CORNER           0.053071\n",
       "route_FLAT             0.039752\n",
       "down                   0.026377\n",
       "route_OUT              0.022816\n",
       "route_HITCH            0.018611\n",
       "Opp_Dist               0.018428\n",
       "position_RB            0.018083\n",
       "FootDist               0.018067\n",
       "route_WHEEL            0.017861\n",
       "position_TE            0.016871\n",
       "numberOfPassRushers    0.015776\n",
       "weight                 0.015477\n",
       "yardsToGo              0.015321\n",
       "Team_Dist              0.015038\n",
       "route_CROSS            0.014939\n",
       "height                 0.014862\n",
       "position_HB            0.014613\n",
       "route_SLANT            0.013893\n",
       "quarter                0.012320\n",
       "defendersInTheBox      0.012061\n",
       "route_IN               0.009842\n",
       "position_DB            0.000000\n",
       "position_CB            0.000000\n",
       "position_DE            0.000000\n",
       "position_DT            0.000000\n",
       "position_FB            0.000000\n",
       "position_K             0.000000\n",
       "position_QB            0.000000\n",
       "position_WR            0.000000\n",
       "route_ANGLE            0.000000\n",
       "dtype: float32"
      ]
     },
     "execution_count": 310,
     "metadata": {},
     "output_type": "execute_result"
    }
   ],
   "source": [
    "feat_importances.sort_values(ascending=False)"
   ]
  },
  {
   "cell_type": "code",
   "execution_count": 311,
   "metadata": {},
   "outputs": [],
   "source": [
    "#Accuracy = (TP + TN) / All Predictions\n",
    "\n",
    "# Mis-Classification is (1-Accuracy), and means all false predictions over the total number of predictions.\n",
    "\n",
    "# Sensitivity (aka Recall) means “out of all actual Positives, how many did we predict as Positive”, \n",
    "# which can be explained as:\n",
    "# Sensitivity (Recall) = TP / (FN + TP)\n",
    "\n",
    "# Specificity (aka Selectivity or True Negative Rate, TNR) means “out of all actual Negatives,\n",
    "# how many did we predict as Negative”, and can be written as:\n",
    "# Specificity = TN / (TN + FP)\n",
    "\n",
    "# Precision (aka Positive Predictive Value, PPV) means “out of all predicted Positive cases,\n",
    "# how many were actually Positive”, or\n",
    "# Precision = TP / (TP + FP)\n",
    "\n",
    "# F1 Score is the harmonic, or weighted, an average of Precision and Sensitivity, \n",
    "# and is a widely used measure of accuracy for classification problems. It is calculated as:\n",
    "# F1 Score = 2 * (Precision * Sensitivity) / (Precision + Sensitivity)\n"
   ]
  },
  {
   "cell_type": "markdown",
   "metadata": {},
   "source": [
    "We see unless you are lining up in the backfield (you're a running back/half back or tight end) having a position, doesn't matter at all. It makes sense we're seeing that being a RB/HB or TE's is important because the second more important feature is starting distance from the quarterback.\n",
    "\n",
    "Now I'll run the model again with only the 10 best features"
   ]
  },
  {
   "cell_type": "code",
   "execution_count": 353,
   "metadata": {},
   "outputs": [],
   "source": [
    "cols = feat_importances.sort_values(ascending=False).index[:10].tolist()\n",
    "X_train_val, X_test, y_train_val, y_test = train_test_split(X[cols], Y, test_size=0.25, shuffle=True, random_state=42)\n",
    "X_train, X_val, y_train, y_val = train_test_split(X_train_val, y_train_val, test_size=0.25, shuffle=True, random_state=42)"
   ]
  },
  {
   "cell_type": "code",
   "execution_count": 388,
   "metadata": {},
   "outputs": [
    {
     "name": "stdout",
     "output_type": "stream",
     "text": [
      "[0]\tvalidation_0-auc:0.64511\tvalidation_0-error:0.29383\n",
      "Multiple eval metrics have been passed: 'validation_0-error' will be used for early stopping.\n",
      "\n",
      "Will train until validation_0-error hasn't improved in 50 rounds.\n",
      "[1]\tvalidation_0-auc:0.64511\tvalidation_0-error:0.29383\n",
      "[2]\tvalidation_0-auc:0.64511\tvalidation_0-error:0.29383\n",
      "[3]\tvalidation_0-auc:0.64511\tvalidation_0-error:0.29383\n",
      "[4]\tvalidation_0-auc:0.64511\tvalidation_0-error:0.29383\n",
      "[5]\tvalidation_0-auc:0.64511\tvalidation_0-error:0.29383\n",
      "[6]\tvalidation_0-auc:0.67607\tvalidation_0-error:0.29383\n",
      "[7]\tvalidation_0-auc:0.67607\tvalidation_0-error:0.29383\n",
      "[8]\tvalidation_0-auc:0.70564\tvalidation_0-error:0.29383\n",
      "[9]\tvalidation_0-auc:0.70564\tvalidation_0-error:0.29383\n",
      "[10]\tvalidation_0-auc:0.71650\tvalidation_0-error:0.29383\n",
      "[11]\tvalidation_0-auc:0.71650\tvalidation_0-error:0.29383\n",
      "[12]\tvalidation_0-auc:0.71650\tvalidation_0-error:0.29383\n",
      "[13]\tvalidation_0-auc:0.71938\tvalidation_0-error:0.29383\n",
      "[14]\tvalidation_0-auc:0.71938\tvalidation_0-error:0.29383\n",
      "[15]\tvalidation_0-auc:0.72376\tvalidation_0-error:0.29383\n",
      "[16]\tvalidation_0-auc:0.72588\tvalidation_0-error:0.29383\n",
      "[17]\tvalidation_0-auc:0.72635\tvalidation_0-error:0.29383\n",
      "[18]\tvalidation_0-auc:0.72635\tvalidation_0-error:0.29383\n",
      "[19]\tvalidation_0-auc:0.72633\tvalidation_0-error:0.29383\n",
      "[20]\tvalidation_0-auc:0.72633\tvalidation_0-error:0.29383\n",
      "[21]\tvalidation_0-auc:0.73189\tvalidation_0-error:0.29383\n",
      "[22]\tvalidation_0-auc:0.73043\tvalidation_0-error:0.29383\n",
      "[23]\tvalidation_0-auc:0.73212\tvalidation_0-error:0.29383\n",
      "[24]\tvalidation_0-auc:0.73219\tvalidation_0-error:0.29383\n",
      "[25]\tvalidation_0-auc:0.73511\tvalidation_0-error:0.29383\n",
      "[26]\tvalidation_0-auc:0.73488\tvalidation_0-error:0.29383\n",
      "[27]\tvalidation_0-auc:0.73504\tvalidation_0-error:0.29383\n",
      "[28]\tvalidation_0-auc:0.73575\tvalidation_0-error:0.29383\n",
      "[29]\tvalidation_0-auc:0.73570\tvalidation_0-error:0.29383\n",
      "[30]\tvalidation_0-auc:0.73645\tvalidation_0-error:0.29383\n",
      "[31]\tvalidation_0-auc:0.73650\tvalidation_0-error:0.29413\n",
      "[32]\tvalidation_0-auc:0.73656\tvalidation_0-error:0.29413\n",
      "[33]\tvalidation_0-auc:0.73656\tvalidation_0-error:0.29383\n",
      "[34]\tvalidation_0-auc:0.73697\tvalidation_0-error:0.29293\n",
      "[35]\tvalidation_0-auc:0.73789\tvalidation_0-error:0.29293\n",
      "[36]\tvalidation_0-auc:0.73795\tvalidation_0-error:0.29293\n",
      "[37]\tvalidation_0-auc:0.73737\tvalidation_0-error:0.29293\n",
      "[38]\tvalidation_0-auc:0.73719\tvalidation_0-error:0.29293\n",
      "[39]\tvalidation_0-auc:0.73715\tvalidation_0-error:0.29323\n",
      "[40]\tvalidation_0-auc:0.73720\tvalidation_0-error:0.29323\n",
      "[41]\tvalidation_0-auc:0.73824\tvalidation_0-error:0.29293\n",
      "[42]\tvalidation_0-auc:0.73833\tvalidation_0-error:0.29293\n",
      "[43]\tvalidation_0-auc:0.73828\tvalidation_0-error:0.28416\n",
      "[44]\tvalidation_0-auc:0.73835\tvalidation_0-error:0.28416\n",
      "[45]\tvalidation_0-auc:0.73888\tvalidation_0-error:0.28446\n",
      "[46]\tvalidation_0-auc:0.73960\tvalidation_0-error:0.28446\n",
      "[47]\tvalidation_0-auc:0.74007\tvalidation_0-error:0.28446\n",
      "[48]\tvalidation_0-auc:0.73991\tvalidation_0-error:0.28356\n",
      "[49]\tvalidation_0-auc:0.73992\tvalidation_0-error:0.28356\n",
      "[50]\tvalidation_0-auc:0.73968\tvalidation_0-error:0.28325\n",
      "[51]\tvalidation_0-auc:0.73983\tvalidation_0-error:0.28325\n",
      "[52]\tvalidation_0-auc:0.73972\tvalidation_0-error:0.28325\n",
      "[53]\tvalidation_0-auc:0.73958\tvalidation_0-error:0.28325\n",
      "[54]\tvalidation_0-auc:0.73961\tvalidation_0-error:0.28386\n",
      "[55]\tvalidation_0-auc:0.73965\tvalidation_0-error:0.28386\n",
      "[56]\tvalidation_0-auc:0.73929\tvalidation_0-error:0.28386\n",
      "[57]\tvalidation_0-auc:0.74005\tvalidation_0-error:0.28325\n",
      "[58]\tvalidation_0-auc:0.74002\tvalidation_0-error:0.28325\n",
      "[59]\tvalidation_0-auc:0.74003\tvalidation_0-error:0.28235\n",
      "[60]\tvalidation_0-auc:0.74006\tvalidation_0-error:0.28235\n",
      "[61]\tvalidation_0-auc:0.73998\tvalidation_0-error:0.28265\n",
      "[62]\tvalidation_0-auc:0.73988\tvalidation_0-error:0.28265\n",
      "[63]\tvalidation_0-auc:0.74004\tvalidation_0-error:0.28265\n",
      "[64]\tvalidation_0-auc:0.74001\tvalidation_0-error:0.28265\n",
      "[65]\tvalidation_0-auc:0.74021\tvalidation_0-error:0.28265\n",
      "[66]\tvalidation_0-auc:0.74044\tvalidation_0-error:0.28265\n",
      "[67]\tvalidation_0-auc:0.74030\tvalidation_0-error:0.28265\n",
      "[68]\tvalidation_0-auc:0.74033\tvalidation_0-error:0.28295\n",
      "[69]\tvalidation_0-auc:0.74064\tvalidation_0-error:0.28265\n",
      "[70]\tvalidation_0-auc:0.74074\tvalidation_0-error:0.28265\n",
      "[71]\tvalidation_0-auc:0.74109\tvalidation_0-error:0.28295\n",
      "[72]\tvalidation_0-auc:0.74109\tvalidation_0-error:0.28295\n",
      "[73]\tvalidation_0-auc:0.74109\tvalidation_0-error:0.28295\n",
      "[74]\tvalidation_0-auc:0.74109\tvalidation_0-error:0.28295\n",
      "[75]\tvalidation_0-auc:0.74109\tvalidation_0-error:0.28295\n",
      "[76]\tvalidation_0-auc:0.74109\tvalidation_0-error:0.28295\n",
      "[77]\tvalidation_0-auc:0.74109\tvalidation_0-error:0.28295\n",
      "[78]\tvalidation_0-auc:0.74109\tvalidation_0-error:0.28295\n",
      "[79]\tvalidation_0-auc:0.74109\tvalidation_0-error:0.28295\n",
      "[80]\tvalidation_0-auc:0.74109\tvalidation_0-error:0.28295\n",
      "[81]\tvalidation_0-auc:0.74109\tvalidation_0-error:0.28295\n",
      "[82]\tvalidation_0-auc:0.74109\tvalidation_0-error:0.28295\n",
      "[83]\tvalidation_0-auc:0.74109\tvalidation_0-error:0.28295\n",
      "[84]\tvalidation_0-auc:0.74109\tvalidation_0-error:0.28295\n",
      "[85]\tvalidation_0-auc:0.74109\tvalidation_0-error:0.28295\n",
      "[86]\tvalidation_0-auc:0.74109\tvalidation_0-error:0.28295\n",
      "[87]\tvalidation_0-auc:0.74109\tvalidation_0-error:0.28295\n",
      "[88]\tvalidation_0-auc:0.74109\tvalidation_0-error:0.28295\n",
      "[89]\tvalidation_0-auc:0.74109\tvalidation_0-error:0.28295\n",
      "[90]\tvalidation_0-auc:0.74109\tvalidation_0-error:0.28295\n",
      "[91]\tvalidation_0-auc:0.74109\tvalidation_0-error:0.28295\n",
      "[92]\tvalidation_0-auc:0.74109\tvalidation_0-error:0.28295\n",
      "[93]\tvalidation_0-auc:0.74109\tvalidation_0-error:0.28295\n",
      "[94]\tvalidation_0-auc:0.74109\tvalidation_0-error:0.28295\n",
      "[95]\tvalidation_0-auc:0.74109\tvalidation_0-error:0.28295\n",
      "[96]\tvalidation_0-auc:0.74109\tvalidation_0-error:0.28295\n",
      "[97]\tvalidation_0-auc:0.74109\tvalidation_0-error:0.28295\n",
      "[98]\tvalidation_0-auc:0.74109\tvalidation_0-error:0.28295\n",
      "[99]\tvalidation_0-auc:0.74109\tvalidation_0-error:0.28295\n",
      "[100]\tvalidation_0-auc:0.74109\tvalidation_0-error:0.28295\n",
      "[101]\tvalidation_0-auc:0.74109\tvalidation_0-error:0.28295\n",
      "[102]\tvalidation_0-auc:0.74109\tvalidation_0-error:0.28295\n",
      "[103]\tvalidation_0-auc:0.74109\tvalidation_0-error:0.28295\n",
      "[104]\tvalidation_0-auc:0.74109\tvalidation_0-error:0.28295\n",
      "[105]\tvalidation_0-auc:0.74109\tvalidation_0-error:0.28295\n",
      "[106]\tvalidation_0-auc:0.74109\tvalidation_0-error:0.28295\n",
      "[107]\tvalidation_0-auc:0.74109\tvalidation_0-error:0.28295\n",
      "[108]\tvalidation_0-auc:0.74109\tvalidation_0-error:0.28295\n",
      "[109]\tvalidation_0-auc:0.74109\tvalidation_0-error:0.28295\n",
      "Stopping. Best iteration:\n",
      "[59]\tvalidation_0-auc:0.74003\tvalidation_0-error:0.28235\n",
      "\n"
     ]
    }
   ],
   "source": [
    "clf2 = XGBClassifier(n_estimators=1000, random_state=42,\n",
    "                     booster='gbtree', objective='binary:logistic',\n",
    "                      eval_metric = [\"auc\",\"error\"],\n",
    "                     colsample_bylevel=1,\n",
    "                     colsample_bytree=1,\n",
    "                     gamma=5,\n",
    "                     learning_rate=0.1,\n",
    "                      max_depth=2,\n",
    "                      min_child_weight=1,\n",
    "                      subsample=1\n",
    "                     )\n",
    "\n",
    "clf2.fit(X_train, y_train, early_stopping_rounds=50,\n",
    "          eval_set=[(X_val, y_val)])\n",
    "y_pred2 = clf2.predict(X_test)\n"
   ]
  },
  {
   "cell_type": "code",
   "execution_count": 389,
   "metadata": {},
   "outputs": [
    {
     "data": {
      "image/png": "[encoded data removed]",
      "text/plain": [
       "<Figure size 720x360 with 2 Axes>"
      ]
     },
     "metadata": {},
     "output_type": "display_data"
    },
    {
     "data": {
      "image/png": "[encoded data removed]",
      "text/plain": [
       "<Figure size 432x288 with 2 Axes>"
      ]
     },
     "metadata": {},
     "output_type": "display_data"
    }
   ],
   "source": [
    "fig, (ax1,ax2) = plt.subplots(1,2, figsize=(10,5))\n",
    "plt.style.use('fivethirtyeight')\n",
    "\n",
    "# Create and fit selector\n",
    "features = X[cols]\n",
    "feat_importances = pd.Series(clf2.feature_importances_, index=features.columns)\n",
    "feat_importances.nlargest(5).plot(kind='barh',ax=ax1)\n",
    "\n",
    "plot_roc_curve(clf2, X_test, y_test, ax=ax2)\n",
    "# Plot baseline. (Perfect overlap between the two populations.)\n",
    "plt.plot(np.linspace(0, 1, 200),\n",
    "         np.linspace(0, 1, 200),\n",
    "         label='baseline',\n",
    "         linestyle='--')\n",
    "\n",
    "score = roc_auc_score(y_test, clf2.predict_proba(X_test)[:,1])\n",
    "\n",
    "# Label axes.\n",
    "plt.title(f\"ROC Curve with AUC = {round(score,3)}\")\n",
    "plt.ylabel('Sensitivity')\n",
    "plt.xlabel('1 - Specificity')\n",
    "# Create legend.\n",
    "plt.legend();\n",
    "plt.subplots_adjust(hspace = .5)\n",
    "\n",
    "\n",
    "cm = confusion_matrix(y_test, y_pred2)\n",
    "\n",
    "labels = ['True Neg','False Pos','False Neg','True Pos']\n",
    "categories = ['Zero', 'One']\n",
    "\n",
    "make_confusion_matrix(cm, \n",
    "                      group_names=labels,\n",
    "                      categories=categories, \n",
    "                      cmap='binary')"
   ]
  },
  {
   "cell_type": "code",
   "execution_count": 390,
   "metadata": {},
   "outputs": [
    {
     "name": "stdout",
     "output_type": "stream",
     "text": [
      "Baseline accuracy score: 0.6168\n",
      "XGBoost model accuracy score: 0.7270\n",
      "Percent improvement: 0.1102\n"
     ]
    }
   ],
   "source": [
    "from sklearn.metrics import accuracy_score\n",
    "baseline = (y_test == 1).sum()/len(y_test)\n",
    "accuracy = accuracy_score(y_test, y_pred2)\n",
    "print('Baseline accuracy score: {0:0.4f}'. format(baseline))\n",
    "print('XGBoost model accuracy score: {0:0.4f}'. format(accuracy_score(y_test, y_pred2)))\n",
    "print('Percent improvement: {0:0.4f}'. format(accuracy-baseline))"
   ]
  },
  {
   "cell_type": "code",
   "execution_count": 411,
   "metadata": {},
   "outputs": [
    {
     "data": {
      "image/svg+xml": [
       "<?xml version=\"1.0\" encoding=\"UTF-8\" standalone=\"no\"?>\n",
       "<!DOCTYPE svg PUBLIC \"-//W3C//DTD SVG 1.1//EN\"\n",
       " \"http://www.w3.org/Graphics/SVG/1.1/DTD/svg11.dtd\">\n",
       "<!-- Generated by graphviz version 2.44.1 (20200629.0846)\n",
       " -->\n",
       "<!-- Pages: 1 -->\n",
       "<svg width=\"720pt\" height=\"122pt\"\n",
       " viewBox=\"0.00 0.00 720.00 121.53\" xmlns=\"http://www.w3.org/2000/svg\" xmlns:xlink=\"http://www.w3.org/1999/xlink\">\n",
       "<g id=\"graph0\" class=\"graph\" transform=\"scale(0.97 0.97) rotate(0) translate(4 121)\">\n",
       "<polygon fill=\"white\" stroke=\"transparent\" points=\"-4,4 -4,-121 736.55,-121 736.55,4 -4,4\"/>\n",
       "<!-- 0 -->\n",
       "<g id=\"node1\" class=\"node\">\n",
       "<title>0</title>\n",
       "<ellipse fill=\"none\" stroke=\"black\" cx=\"93.59\" cy=\"-72\" rx=\"93.68\" ry=\"18\"/>\n",
       "<text text-anchor=\"middle\" x=\"93.59\" y=\"-68.3\" font-family=\"Times,serif\" font-size=\"14.00\">QB_Dist&lt;0.603261948</text>\n",
       "</g>\n",
       "<!-- 1 -->\n",
       "<g id=\"node2\" class=\"node\">\n",
       "<title>1</title>\n",
       "<ellipse fill=\"none\" stroke=\"black\" cx=\"375.38\" cy=\"-99\" rx=\"83.39\" ry=\"18\"/>\n",
       "<text text-anchor=\"middle\" x=\"375.38\" y=\"-95.3\" font-family=\"Times,serif\" font-size=\"14.00\">leaf=&#45;0.0736239478</text>\n",
       "</g>\n",
       "<!-- 0&#45;&gt;1 -->\n",
       "<g id=\"edge1\" class=\"edge\">\n",
       "<title>0&#45;&gt;1</title>\n",
       "<path fill=\"none\" stroke=\"#ff0000\" d=\"M177.78,-80.03C212.82,-83.41 253.57,-87.34 288.86,-90.75\"/>\n",
       "<polygon fill=\"#ff0000\" stroke=\"#ff0000\" points=\"288.85,-94.26 299.14,-91.74 289.52,-87.29 288.85,-94.26\"/>\n",
       "<text text-anchor=\"middle\" x=\"239.68\" y=\"-91.8\" font-family=\"Times,serif\" font-size=\"14.00\">no</text>\n",
       "</g>\n",
       "<!-- 2 -->\n",
       "<g id=\"node3\" class=\"node\">\n",
       "<title>2</title>\n",
       "<ellipse fill=\"none\" stroke=\"black\" cx=\"375.38\" cy=\"-45\" rx=\"62.29\" ry=\"18\"/>\n",
       "<text text-anchor=\"middle\" x=\"375.38\" y=\"-41.3\" font-family=\"Times,serif\" font-size=\"14.00\">route_GO&lt;0.5</text>\n",
       "</g>\n",
       "<!-- 0&#45;&gt;2 -->\n",
       "<g id=\"edge2\" class=\"edge\">\n",
       "<title>0&#45;&gt;2</title>\n",
       "<path fill=\"none\" stroke=\"#0000ff\" d=\"M177.78,-63.97C218.59,-60.03 267.15,-55.35 305.8,-51.62\"/>\n",
       "<polygon fill=\"#0000ff\" stroke=\"#0000ff\" points=\"306.29,-55.09 315.91,-50.64 305.62,-48.12 306.29,-55.09\"/>\n",
       "<text text-anchor=\"middle\" x=\"239.68\" y=\"-63.8\" font-family=\"Times,serif\" font-size=\"14.00\">yes, missing</text>\n",
       "</g>\n",
       "<!-- 5 -->\n",
       "<g id=\"node4\" class=\"node\">\n",
       "<title>5</title>\n",
       "<ellipse fill=\"none\" stroke=\"black\" cx=\"648.06\" cy=\"-72\" rx=\"84.49\" ry=\"18\"/>\n",
       "<text text-anchor=\"middle\" x=\"648.06\" y=\"-68.3\" font-family=\"Times,serif\" font-size=\"14.00\">leaf=0.00785947125</text>\n",
       "</g>\n",
       "<!-- 2&#45;&gt;5 -->\n",
       "<g id=\"edge3\" class=\"edge\">\n",
       "<title>2&#45;&gt;5</title>\n",
       "<path fill=\"none\" stroke=\"#0000ff\" d=\"M434.78,-50.83C471.68,-54.51 520,-59.33 561.22,-63.44\"/>\n",
       "<polygon fill=\"#0000ff\" stroke=\"#0000ff\" points=\"560.97,-66.93 571.26,-64.44 561.66,-59.96 560.97,-66.93\"/>\n",
       "<text text-anchor=\"middle\" x=\"511.07\" y=\"-64.8\" font-family=\"Times,serif\" font-size=\"14.00\">yes, missing</text>\n",
       "</g>\n",
       "<!-- 6 -->\n",
       "<g id=\"node5\" class=\"node\">\n",
       "<title>6</title>\n",
       "<ellipse fill=\"none\" stroke=\"black\" cx=\"648.06\" cy=\"-18\" rx=\"83.39\" ry=\"18\"/>\n",
       "<text text-anchor=\"middle\" x=\"648.06\" y=\"-14.3\" font-family=\"Times,serif\" font-size=\"14.00\">leaf=&#45;0.0312585719</text>\n",
       "</g>\n",
       "<!-- 2&#45;&gt;6 -->\n",
       "<g id=\"edge4\" class=\"edge\">\n",
       "<title>2&#45;&gt;6</title>\n",
       "<path fill=\"none\" stroke=\"#ff0000\" d=\"M434.78,-39.17C471.96,-35.47 520.76,-30.6 562.18,-26.47\"/>\n",
       "<polygon fill=\"#ff0000\" stroke=\"#ff0000\" points=\"562.67,-29.94 572.27,-25.46 561.97,-22.97 562.67,-29.94\"/>\n",
       "<text text-anchor=\"middle\" x=\"511.07\" y=\"-37.8\" font-family=\"Times,serif\" font-size=\"14.00\">no</text>\n",
       "</g>\n",
       "</g>\n",
       "</svg>\n"
      ],
      "text/plain": [
       "<graphviz.files.Source at 0x7f9ae238c490>"
      ]
     },
     "execution_count": 411,
     "metadata": {},
     "output_type": "execute_result"
    }
   ],
   "source": [
    "import graphviz\n",
    "from xgboost import plot_tree\n",
    "import matplotlib.pyplot as plt\n",
    "\n",
    "# plot single tree\n",
    "xgb.to_graphviz(clf2,rankdir='LR',num_trees=33,**{'size':str(10)})"
   ]
  },
  {
   "cell_type": "code",
   "execution_count": 419,
   "metadata": {},
   "outputs": [
    {
     "data": {
      "text/plain": [
       "0.49803514230180557"
      ]
     },
     "execution_count": 419,
     "metadata": {},
     "output_type": "execute_result"
    }
   ],
   "source": [
    "(1/(1+np.exp(0.00785947125)))"
   ]
  },
  {
   "cell_type": "markdown",
   "metadata": {},
   "source": [
    "#### We see some slight improvement"
   ]
  },
  {
   "cell_type": "markdown",
   "metadata": {},
   "source": [
    "### Let's try k-fold cross validation with XGB"
   ]
  },
  {
   "cell_type": "code",
   "execution_count": 317,
   "metadata": {},
   "outputs": [],
   "source": [
    "dtrain = xgb.DMatrix(X_train, label=y_train)\n",
    "dval = xgb.DMatrix(X_val, label=y_val)\n",
    "dtest = xgb.DMatrix(X_test, label=y_test)"
   ]
  },
  {
   "cell_type": "code",
   "execution_count": 319,
   "metadata": {},
   "outputs": [
    {
     "data": {
      "text/html": [
       "<div>\n",
       "<style scoped>\n",
       "    .dataframe tbody tr th:only-of-type {\n",
       "        vertical-align: middle;\n",
       "    }\n",
       "\n",
       "    .dataframe tbody tr th {\n",
       "        vertical-align: top;\n",
       "    }\n",
       "\n",
       "    .dataframe thead th {\n",
       "        text-align: right;\n",
       "    }\n",
       "</style>\n",
       "<table border=\"1\" class=\"dataframe\">\n",
       "  <thead>\n",
       "    <tr style=\"text-align: right;\">\n",
       "      <th></th>\n",
       "      <th>train-auc-mean</th>\n",
       "      <th>train-auc-std</th>\n",
       "      <th>test-auc-mean</th>\n",
       "      <th>test-auc-std</th>\n",
       "    </tr>\n",
       "  </thead>\n",
       "  <tbody>\n",
       "    <tr>\n",
       "      <th>0</th>\n",
       "      <td>0.590913</td>\n",
       "      <td>0.002859</td>\n",
       "      <td>0.590847</td>\n",
       "      <td>0.005967</td>\n",
       "    </tr>\n",
       "    <tr>\n",
       "      <th>1</th>\n",
       "      <td>0.616614</td>\n",
       "      <td>0.010728</td>\n",
       "      <td>0.610983</td>\n",
       "      <td>0.009939</td>\n",
       "    </tr>\n",
       "    <tr>\n",
       "      <th>2</th>\n",
       "      <td>0.633575</td>\n",
       "      <td>0.015367</td>\n",
       "      <td>0.624736</td>\n",
       "      <td>0.012785</td>\n",
       "    </tr>\n",
       "    <tr>\n",
       "      <th>3</th>\n",
       "      <td>0.659686</td>\n",
       "      <td>0.039674</td>\n",
       "      <td>0.648141</td>\n",
       "      <td>0.031009</td>\n",
       "    </tr>\n",
       "    <tr>\n",
       "      <th>4</th>\n",
       "      <td>0.685198</td>\n",
       "      <td>0.038435</td>\n",
       "      <td>0.672115</td>\n",
       "      <td>0.031021</td>\n",
       "    </tr>\n",
       "  </tbody>\n",
       "</table>\n",
       "</div>"
      ],
      "text/plain": [
       "   train-auc-mean  train-auc-std  test-auc-mean  test-auc-std\n",
       "0        0.590913       0.002859       0.590847      0.005967\n",
       "1        0.616614       0.010728       0.610983      0.009939\n",
       "2        0.633575       0.015367       0.624736      0.012785\n",
       "3        0.659686       0.039674       0.648141      0.031009\n",
       "4        0.685198       0.038435       0.672115      0.031021"
      ]
     },
     "execution_count": 319,
     "metadata": {},
     "output_type": "execute_result"
    }
   ],
   "source": [
    "from xgboost import cv\n",
    "\n",
    "params = {\"objective\":\"binary:logistic\",'colsample_bytree': 0.3,'learning_rate': 0.1,\n",
    "                'max_depth': 5, 'alpha': 10}\n",
    "\n",
    "\n",
    "xgb_cv = cv(dtrain=dtrain, params=params, nfold=3,\n",
    "                    num_boost_round=50, early_stopping_rounds=10, metrics=\"auc\", as_pandas=True, seed=42)\n",
    "xgb_cv.head()"
   ]
  },
  {
   "cell_type": "code",
   "execution_count": 331,
   "metadata": {},
   "outputs": [
    {
     "name": "stdout",
     "output_type": "stream",
     "text": [
      "Fitting 5 folds for each of 25 candidates, totalling 125 fits\n"
     ]
    },
    {
     "name": "stderr",
     "output_type": "stream",
     "text": [
      "[Parallel(n_jobs=-1)]: Using backend LokyBackend with 4 concurrent workers.\n",
      "[Parallel(n_jobs=-1)]: Done  24 tasks      | elapsed:  2.3min\n",
      "[Parallel(n_jobs=-1)]: Done 125 out of 125 | elapsed: 10.6min finished\n"
     ]
    },
    {
     "name": "stdout",
     "output_type": "stream",
     "text": [
      "Fitting 5 folds for each of 25 candidates, totalling 125 fits\n"
     ]
    },
    {
     "name": "stderr",
     "output_type": "stream",
     "text": [
      "[Parallel(n_jobs=-1)]: Using backend LokyBackend with 4 concurrent workers.\n",
      "[Parallel(n_jobs=-1)]: Done  24 tasks      | elapsed:  2.1min\n",
      "[Parallel(n_jobs=-1)]: Done 125 out of 125 | elapsed:  9.7min finished\n"
     ]
    },
    {
     "name": "stdout",
     "output_type": "stream",
     "text": [
      "Fitting 5 folds for each of 25 candidates, totalling 125 fits\n"
     ]
    },
    {
     "name": "stderr",
     "output_type": "stream",
     "text": [
      "[Parallel(n_jobs=-1)]: Using backend LokyBackend with 4 concurrent workers.\n",
      "[Parallel(n_jobs=-1)]: Done  24 tasks      | elapsed:  1.4min\n",
      "[Parallel(n_jobs=-1)]: Done 125 out of 125 | elapsed:  7.9min finished\n"
     ]
    },
    {
     "name": "stdout",
     "output_type": "stream",
     "text": [
      "Fitting 5 folds for each of 25 candidates, totalling 125 fits\n"
     ]
    },
    {
     "name": "stderr",
     "output_type": "stream",
     "text": [
      "[Parallel(n_jobs=-1)]: Using backend LokyBackend with 4 concurrent workers.\n",
      "[Parallel(n_jobs=-1)]: Done  24 tasks      | elapsed:  2.8min\n",
      "[Parallel(n_jobs=-1)]: Done 125 out of 125 | elapsed: 11.1min finished\n"
     ]
    },
    {
     "name": "stdout",
     "output_type": "stream",
     "text": [
      "Fitting 5 folds for each of 25 candidates, totalling 125 fits\n"
     ]
    },
    {
     "name": "stderr",
     "output_type": "stream",
     "text": [
      "[Parallel(n_jobs=-1)]: Using backend LokyBackend with 4 concurrent workers.\n",
      "[Parallel(n_jobs=-1)]: Done  24 tasks      | elapsed:  2.2min\n",
      "[Parallel(n_jobs=-1)]: Done 125 out of 125 | elapsed: 10.4min finished\n"
     ]
    }
   ],
   "source": [
    "from scipy import stats\n",
    "from xgboost import XGBClassifier\n",
    "from sklearn.model_selection import RandomizedSearchCV, KFold\n",
    "from sklearn.metrics import f1_score\n",
    "\n",
    "clf_xgb = XGBClassifier(objective = 'binary:logistic')\n",
    "param_dist = {'n_estimators': stats.randint(150, 500),\n",
    "              'learning_rate': stats.uniform(0.01, 0.07),\n",
    "              'subsample': stats.uniform(0.3, 0.7),\n",
    "              'max_depth': [3, 4, 5, 6, 7, 8, 9],\n",
    "              'colsample_bytree': stats.uniform(0.5, 0.45),\n",
    "              'min_child_weight': [1, 2, 3]\n",
    "             }\n",
    "\n",
    "clf3 = RandomizedSearchCV(clf_xgb, param_distributions = param_dist, n_iter = 25, scoring = 'f1', random_state = 42, error_score = 0, verbose = 3, n_jobs = -1)\n",
    "\n",
    "numFolds = 5\n",
    "folds = KFold(n_splits = numFolds, shuffle = True)\n",
    "\n",
    "estimators = []\n",
    "results = np.zeros(len(X))\n",
    "score = 0.0\n",
    "for train_index, test_index in folds.split(X):\n",
    "    X_train, X_test = X.iloc[train_index,:], X.iloc[test_index,:]\n",
    "    y_train, y_test = y.iloc[train_index].values.ravel(), y.iloc[test_index].values.ravel()\n",
    "    clf3.fit(X_train, y_train)\n",
    "\n",
    "    estimators.append(clf3.best_estimator_)\n",
    "    results[test_index] = clf3.predict(X_test)\n",
    "    score += f1_score(y_test, results[test_index])\n",
    "score /= numFolds"
   ]
  },
  {
   "cell_type": "code",
   "execution_count": 337,
   "metadata": {},
   "outputs": [
    {
     "data": {
      "text/plain": [
       "0.7198752480861922"
      ]
     },
     "execution_count": 337,
     "metadata": {},
     "output_type": "execute_result"
    }
   ],
   "source": [
    "accuracy_score(y_test, results[test_index])"
   ]
  },
  {
   "cell_type": "code",
   "execution_count": 333,
   "metadata": {},
   "outputs": [
    {
     "data": {
      "text/plain": [
       "0.8048953224368978"
      ]
     },
     "execution_count": 333,
     "metadata": {},
     "output_type": "execute_result"
    }
   ],
   "source": [
    "score"
   ]
  },
  {
   "cell_type": "code",
   "execution_count": 334,
   "metadata": {},
   "outputs": [
    {
     "data": {
      "text/plain": [
       "[XGBClassifier(base_score=0.5, booster='gbtree', colsample_bylevel=1,\n",
       "               colsample_bynode=1, colsample_bytree=0.7925611896508273, gamma=0,\n",
       "               gpu_id=-1, importance_type='gain', interaction_constraints='',\n",
       "               learning_rate=0.02395024509413899, max_delta_step=0, max_depth=3,\n",
       "               min_child_weight=1, missing=nan, monotone_constraints='()',\n",
       "               n_estimators=256, n_jobs=0, num_parallel_tree=1,\n",
       "               objective='binary:logistic', random_state=0, reg_alpha=0,\n",
       "               reg_lambda=1, scale_pos_weight=1, subsample=0.8993324419915627,\n",
       "               tree_method='exact', validate_parameters=1, verbosity=None),\n",
       " XGBClassifier(base_score=0.5, booster='gbtree', colsample_bylevel=1,\n",
       "               colsample_bynode=1, colsample_bytree=0.6200030536160359, gamma=0,\n",
       "               gpu_id=-1, importance_type='gain', interaction_constraints='',\n",
       "               learning_rate=0.02321976570056989, max_delta_step=0, max_depth=6,\n",
       "               min_child_weight=2, missing=nan, monotone_constraints='()',\n",
       "               n_estimators=179, n_jobs=0, num_parallel_tree=1,\n",
       "               objective='binary:logistic', random_state=0, reg_alpha=0,\n",
       "               reg_lambda=1, scale_pos_weight=1, subsample=0.8480268213293847,\n",
       "               tree_method='exact', validate_parameters=1, verbosity=None),\n",
       " XGBClassifier(base_score=0.5, booster='gbtree', colsample_bylevel=1,\n",
       "               colsample_bynode=1, colsample_bytree=0.5085602749199456, gamma=0,\n",
       "               gpu_id=-1, importance_type='gain', interaction_constraints='',\n",
       "               learning_rate=0.026561268634634844, max_delta_step=0, max_depth=3,\n",
       "               min_child_weight=3, missing=nan, monotone_constraints='()',\n",
       "               n_estimators=174, n_jobs=0, num_parallel_tree=1,\n",
       "               objective='binary:logistic', random_state=0, reg_alpha=0,\n",
       "               reg_lambda=1, scale_pos_weight=1, subsample=0.969348478258546,\n",
       "               tree_method='exact', validate_parameters=1, verbosity=None),\n",
       " XGBClassifier(base_score=0.5, booster='gbtree', colsample_bylevel=1,\n",
       "               colsample_bynode=1, colsample_bytree=0.8115923811727273, gamma=0,\n",
       "               gpu_id=-1, importance_type='gain', interaction_constraints='',\n",
       "               learning_rate=0.012736805395189928, max_delta_step=0, max_depth=7,\n",
       "               min_child_weight=1, missing=nan, monotone_constraints='()',\n",
       "               n_estimators=240, n_jobs=0, num_parallel_tree=1,\n",
       "               objective='binary:logistic', random_state=0, reg_alpha=0,\n",
       "               reg_lambda=1, scale_pos_weight=1, subsample=0.8542794477879418,\n",
       "               tree_method='exact', validate_parameters=1, verbosity=None),\n",
       " XGBClassifier(base_score=0.5, booster='gbtree', colsample_bylevel=1,\n",
       "               colsample_bynode=1, colsample_bytree=0.8367534115904901, gamma=0,\n",
       "               gpu_id=-1, importance_type='gain', interaction_constraints='',\n",
       "               learning_rate=0.01737774840546813, max_delta_step=0, max_depth=7,\n",
       "               min_child_weight=2, missing=nan, monotone_constraints='()',\n",
       "               n_estimators=229, n_jobs=0, num_parallel_tree=1,\n",
       "               objective='binary:logistic', random_state=0, reg_alpha=0,\n",
       "               reg_lambda=1, scale_pos_weight=1, subsample=0.5558389406129065,\n",
       "               tree_method='exact', validate_parameters=1, verbosity=None)]"
      ]
     },
     "execution_count": 334,
     "metadata": {},
     "output_type": "execute_result"
    }
   ],
   "source": [
    "estimators"
   ]
  },
  {
   "cell_type": "code",
   "execution_count": null,
   "metadata": {},
   "outputs": [],
   "source": [
    "models = []\n",
    "\n",
    "# CLASSIFICATION\n",
    "models.append(('SVM', svm.SVC()))\n",
    "models.append(('LR', LogisticRegression()))\n",
    "models.append(('LDA', LinearDiscriminantAnalysis()))\n",
    "models.append(('KNN', KNeighborsClassifier()))\n",
    "models.append(('CART', DecisionTreeClassifier()))\n",
    "models.append(('NB', GaussianNB()))\n",
    "\n",
    "# REGRESSION\n",
    "\n",
    "#models.append(('SGDRegressor', linear_model.SGDRegressor())) #ValueError: Classification metrics can't handle a mix of binary and continuous targets\n",
    "#models.append(('BayesianRidge', linear_model.BayesianRidge())) #ValueError: Classification metrics can't handle a mix of binary and continuous targets\n",
    "#models.append(('LassoLars', linear_model.LassoLars())) #ValueError: Classification metrics can't handle a mix of binary and continuous targets\n",
    "#models.append(('ARDRegression', linear_model.ARDRegression())) #ValueError: Classification metrics can't handle a mix of binary and continuous targets\n",
    "#models.append(('PassiveAggressiveRegressor', linear_model.PassiveAggressiveRegressor())) #ValueError: Classification metrics can't handle a mix of binary and continuous targets\n",
    "#models.append(('TheilSenRegressor', linear_model.TheilSenRegressor())) #ValueError: Classification metrics can't handle a mix of binary and continuous targets\n",
    "#models.append(('LinearRegression', linear_model.LinearRegression())) #ValueError: Classification metrics can't handle a mix of binary and continuous targets"
   ]
  }
 ],
 "metadata": {
  "kernelspec": {
   "display_name": "Python 3",
   "language": "python",
   "name": "python3"
  },
  "language_info": {
   "codemirror_mode": {
    "name": "ipython",
    "version": 3
   },
   "file_extension": ".py",
   "mimetype": "text/x-python",
   "name": "python",
   "nbconvert_exporter": "python",
   "pygments_lexer": "ipython3",
   "version": "3.7.6"
  }
 },
 "nbformat": 4,
 "nbformat_minor": 4
}

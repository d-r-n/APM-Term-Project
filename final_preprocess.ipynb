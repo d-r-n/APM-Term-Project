{
 "cells": [
  {
   "cell_type": "code",
   "execution_count": 4,
   "metadata": {},
   "outputs": [],
   "source": [
    "import pandas as pd\n",
    "import numpy as np\n",
    "import glob"
   ]
  },
  {
   "cell_type": "markdown",
   "metadata": {},
   "source": [
    "#### Import NFL BDB 2021 and NFL BDB 2021 Bonus data"
   ]
  },
  {
   "cell_type": "code",
   "execution_count": 5,
   "metadata": {},
   "outputs": [],
   "source": [
    "players = pd.read_csv('nfl-big-data-bowl-2021/players.csv')\n",
    "games = pd.read_csv('nfl-big-data-bowl-2021/games.csv')\n",
    "plays = pd.read_csv('nfl-big-data-bowl-2021/plays.csv')\n",
    "targetedReceiver = pd.read_csv('nfl-big-data-bowl-2021-bonus/targetedReceiver.csv')\n",
    "\n",
    "extension = 'csv'\n",
    "all_filenames = [i for i in glob.glob('nfl-big-data-bowl-2021/week*.{}'.format(extension))]\n",
    "tracking = pd.concat([pd.read_csv(f) for f in all_filenames])"
   ]
  },
  {
   "cell_type": "markdown",
   "metadata": {},
   "source": [
    "#### Import relative distance data"
   ]
  },
  {
   "cell_type": "code",
   "execution_count": 6,
   "metadata": {},
   "outputs": [],
   "source": [
    "all_filenames1 = [i for i in glob.glob('additional_data/realtive_info/Relative_Info_Week*.{}'.format(extension))]\n",
    "distances = pd.concat([pd.read_csv(f) for f in all_filenames1])\n",
    "distances = distances.drop(columns='Unnamed: 0')"
   ]
  },
  {
   "cell_type": "code",
   "execution_count": 7,
   "metadata": {},
   "outputs": [
    {
     "data": {
      "text/plain": [
       "(17092915, 11)"
      ]
     },
     "execution_count": 7,
     "metadata": {},
     "output_type": "execute_result"
    }
   ],
   "source": [
    "distances.shape"
   ]
  },
  {
   "cell_type": "code",
   "execution_count": 8,
   "metadata": {},
   "outputs": [
    {
     "data": {
      "text/html": [
       "<div>\n",
       "<style scoped>\n",
       "    .dataframe tbody tr th:only-of-type {\n",
       "        vertical-align: middle;\n",
       "    }\n",
       "\n",
       "    .dataframe tbody tr th {\n",
       "        vertical-align: top;\n",
       "    }\n",
       "\n",
       "    .dataframe thead th {\n",
       "        text-align: right;\n",
       "    }\n",
       "</style>\n",
       "<table border=\"1\" class=\"dataframe\">\n",
       "  <thead>\n",
       "    <tr style=\"text-align: right;\">\n",
       "      <th></th>\n",
       "      <th>gameId</th>\n",
       "      <th>playId</th>\n",
       "      <th>frameId</th>\n",
       "      <th>nflId</th>\n",
       "      <th>Opp_Dist</th>\n",
       "      <th>closestOpp_Id</th>\n",
       "      <th>Team_Dist</th>\n",
       "      <th>closestTeam_Id</th>\n",
       "      <th>QB_Dist</th>\n",
       "      <th>closestQB_Id</th>\n",
       "      <th>FootDist</th>\n",
       "    </tr>\n",
       "  </thead>\n",
       "  <tbody>\n",
       "    <tr>\n",
       "      <th>0</th>\n",
       "      <td>2018101800</td>\n",
       "      <td>96</td>\n",
       "      <td>1</td>\n",
       "      <td>494307.0</td>\n",
       "      <td>17.555184</td>\n",
       "      <td>2559248.0</td>\n",
       "      <td>10.716604</td>\n",
       "      <td>2532898.0</td>\n",
       "      <td>21.280359</td>\n",
       "      <td>2560858.0</td>\n",
       "      <td>17.405683</td>\n",
       "    </tr>\n",
       "    <tr>\n",
       "      <th>1</th>\n",
       "      <td>2018101800</td>\n",
       "      <td>96</td>\n",
       "      <td>1</td>\n",
       "      <td>2495202.0</td>\n",
       "      <td>5.111008</td>\n",
       "      <td>2553435.0</td>\n",
       "      <td>6.498138</td>\n",
       "      <td>2550930.0</td>\n",
       "      <td>7.322739</td>\n",
       "      <td>2560858.0</td>\n",
       "      <td>5.288875</td>\n",
       "    </tr>\n",
       "    <tr>\n",
       "      <th>2</th>\n",
       "      <td>2018101800</td>\n",
       "      <td>96</td>\n",
       "      <td>1</td>\n",
       "      <td>2506106.0</td>\n",
       "      <td>4.550011</td>\n",
       "      <td>2530510.0</td>\n",
       "      <td>4.983172</td>\n",
       "      <td>2559248.0</td>\n",
       "      <td>11.464903</td>\n",
       "      <td>2560858.0</td>\n",
       "      <td>11.425625</td>\n",
       "    </tr>\n",
       "    <tr>\n",
       "      <th>3</th>\n",
       "      <td>2018101800</td>\n",
       "      <td>96</td>\n",
       "      <td>1</td>\n",
       "      <td>2507917.0</td>\n",
       "      <td>7.598066</td>\n",
       "      <td>2560711.0</td>\n",
       "      <td>5.919206</td>\n",
       "      <td>2555550.0</td>\n",
       "      <td>20.026026</td>\n",
       "      <td>2560858.0</td>\n",
       "      <td>18.144073</td>\n",
       "    </tr>\n",
       "    <tr>\n",
       "      <th>4</th>\n",
       "      <td>2018101800</td>\n",
       "      <td>96</td>\n",
       "      <td>1</td>\n",
       "      <td>2530510.0</td>\n",
       "      <td>4.550011</td>\n",
       "      <td>2506106.0</td>\n",
       "      <td>7.339244</td>\n",
       "      <td>2532898.0</td>\n",
       "      <td>13.230155</td>\n",
       "      <td>2560858.0</td>\n",
       "      <td>11.701115</td>\n",
       "    </tr>\n",
       "  </tbody>\n",
       "</table>\n",
       "</div>"
      ],
      "text/plain": [
       "       gameId  playId  frameId      nflId   Opp_Dist  closestOpp_Id  \\\n",
       "0  2018101800      96        1   494307.0  17.555184      2559248.0   \n",
       "1  2018101800      96        1  2495202.0   5.111008      2553435.0   \n",
       "2  2018101800      96        1  2506106.0   4.550011      2530510.0   \n",
       "3  2018101800      96        1  2507917.0   7.598066      2560711.0   \n",
       "4  2018101800      96        1  2530510.0   4.550011      2506106.0   \n",
       "\n",
       "   Team_Dist  closestTeam_Id    QB_Dist  closestQB_Id   FootDist  \n",
       "0  10.716604       2532898.0  21.280359     2560858.0  17.405683  \n",
       "1   6.498138       2550930.0   7.322739     2560858.0   5.288875  \n",
       "2   4.983172       2559248.0  11.464903     2560858.0  11.425625  \n",
       "3   5.919206       2555550.0  20.026026     2560858.0  18.144073  \n",
       "4   7.339244       2532898.0  13.230155     2560858.0  11.701115  "
      ]
     },
     "execution_count": 8,
     "metadata": {},
     "output_type": "execute_result"
    }
   ],
   "source": [
    "distances.head()"
   ]
  },
  {
   "cell_type": "code",
   "execution_count": 9,
   "metadata": {},
   "outputs": [
    {
     "data": {
      "text/plain": [
       "(18309388, 19)"
      ]
     },
     "execution_count": 9,
     "metadata": {},
     "output_type": "execute_result"
    }
   ],
   "source": [
    "tracking.shape # includes rows for ball location"
   ]
  },
  {
   "cell_type": "markdown",
   "metadata": {},
   "source": [
    "#### Get data at time of snap"
   ]
  },
  {
   "cell_type": "code",
   "execution_count": 10,
   "metadata": {},
   "outputs": [],
   "source": [
    "tsnaps = tracking[tracking['event']=='ball_snap']\n",
    "snaps = tsnaps[['gameId','playId', 'x', 'y','nflId','event','displayName','position','frameId','route']]"
   ]
  },
  {
   "cell_type": "code",
   "execution_count": 11,
   "metadata": {},
   "outputs": [
    {
     "data": {
      "text/plain": [
       "(282543, 10)"
      ]
     },
     "execution_count": 11,
     "metadata": {},
     "output_type": "execute_result"
    }
   ],
   "source": [
    "snaps.shape"
   ]
  },
  {
   "cell_type": "markdown",
   "metadata": {},
   "source": [
    "#### Merge with targeted reciever"
   ]
  },
  {
   "cell_type": "code",
   "execution_count": 12,
   "metadata": {},
   "outputs": [
    {
     "data": {
      "text/plain": [
       "(19196, 11)"
      ]
     },
     "execution_count": 12,
     "metadata": {},
     "output_type": "execute_result"
    }
   ],
   "source": [
    "df1 = pd.merge(snaps, targetedReceiver, \\\n",
    "         how='inner', \\\n",
    "         left_on=['gameId','playId','nflId'], \\\n",
    "         right_on=['gameId','playId','targetNflId'])\n",
    "df1.shape"
   ]
  },
  {
   "cell_type": "markdown",
   "metadata": {},
   "source": [
    "#### Merge with distance info"
   ]
  },
  {
   "cell_type": "code",
   "execution_count": 13,
   "metadata": {},
   "outputs": [
    {
     "data": {
      "text/plain": [
       "(18848, 18)"
      ]
     },
     "execution_count": 13,
     "metadata": {},
     "output_type": "execute_result"
    }
   ],
   "source": [
    "df2 = pd.merge(df1, distances, \\\n",
    "                     left_on=['gameId','playId','nflId','frameId'], \\\n",
    "                     right_on=['gameId','playId','nflId','frameId'])\n",
    "df2.shape"
   ]
  },
  {
   "cell_type": "markdown",
   "metadata": {},
   "source": [
    "#### Merge with play info"
   ]
  },
  {
   "cell_type": "code",
   "execution_count": 14,
   "metadata": {},
   "outputs": [
    {
     "data": {
      "text/plain": [
       "(18848, 30)"
      ]
     },
     "execution_count": 14,
     "metadata": {},
     "output_type": "execute_result"
    }
   ],
   "source": [
    "df3 = pd.merge(df2, plays[['gameId','playId','quarter','down','yardsToGo',\\\n",
    "                           'defendersInTheBox','numberOfPassRushers',\\\n",
    "                           'absoluteYardlineNumber','passResult','penaltyCodes', \\\n",
    "                           'offensePlayResult','epa','playResult','isDefensivePI']], \\\n",
    "                     left_on=['gameId','playId'], \\\n",
    "                     right_on=['gameId','playId'])\n",
    "df3.shape"
   ]
  },
  {
   "cell_type": "markdown",
   "metadata": {},
   "source": [
    "#### Merge with player info"
   ]
  },
  {
   "cell_type": "code",
   "execution_count": 15,
   "metadata": {},
   "outputs": [
    {
     "data": {
      "text/plain": [
       "(18848, 32)"
      ]
     },
     "execution_count": 15,
     "metadata": {},
     "output_type": "execute_result"
    }
   ],
   "source": [
    "df4 = pd.merge(df3, players[['nflId', 'height','weight']], \\\n",
    "                     on=['nflId'])\n",
    "df4.shape"
   ]
  },
  {
   "cell_type": "markdown",
   "metadata": {},
   "source": [
    "#### Make penalty a dummy variable"
   ]
  },
  {
   "cell_type": "code",
   "execution_count": 16,
   "metadata": {},
   "outputs": [
    {
     "data": {
      "text/plain": [
       "DPI         241\n",
       "DH          227\n",
       "RPS         161\n",
       "OPI          96\n",
       "OH           88\n",
       "           ... \n",
       "OPI;ILF       1\n",
       "DSQ;DSQd      1\n",
       "ICB           1\n",
       "RPS;UNRd      1\n",
       "ICT;DH        1\n",
       "Name: penaltyCodes, Length: 82, dtype: int64"
      ]
     },
     "execution_count": 16,
     "metadata": {},
     "output_type": "execute_result"
    }
   ],
   "source": [
    "df4.penaltyCodes.value_counts()"
   ]
  },
  {
   "cell_type": "code",
   "execution_count": 17,
   "metadata": {},
   "outputs": [
    {
     "data": {
      "text/plain": [
       "0    17653\n",
       "1     1195\n",
       "Name: penalty, dtype: int64"
      ]
     },
     "execution_count": 17,
     "metadata": {},
     "output_type": "execute_result"
    }
   ],
   "source": [
    "df5 = df4.rename(columns={\"penaltyCodes\":\"penalty\"})\n",
    "df5['penalty'] = np.where(pd.notna(df5['penalty']), 1,0)\n",
    "df5.penalty.value_counts()"
   ]
  },
  {
   "cell_type": "code",
   "execution_count": null,
   "metadata": {},
   "outputs": [],
   "source": []
  },
  {
   "cell_type": "code",
   "execution_count": 18,
   "metadata": {},
   "outputs": [
    {
     "data": {
      "text/plain": [
       "(17653, 32)"
      ]
     },
     "execution_count": 18,
     "metadata": {},
     "output_type": "execute_result"
    }
   ],
   "source": [
    "# filter out plays with penalties\n",
    "df6 = df5[df5['penalty'] != 1]\n",
    "df6.shape"
   ]
  },
  {
   "cell_type": "markdown",
   "metadata": {},
   "source": [
    "#### Make passResult a dummy variable"
   ]
  },
  {
   "cell_type": "code",
   "execution_count": 19,
   "metadata": {},
   "outputs": [
    {
     "data": {
      "text/plain": [
       "C     10853\n",
       "I      5155\n",
       "S      1206\n",
       "IN      439\n",
       "Name: passResult, dtype: int64"
      ]
     },
     "execution_count": 19,
     "metadata": {},
     "output_type": "execute_result"
    }
   ],
   "source": [
    "df6.passResult.value_counts()"
   ]
  },
  {
   "cell_type": "code",
   "execution_count": 20,
   "metadata": {},
   "outputs": [
    {
     "name": "stderr",
     "output_type": "stream",
     "text": [
      "/Applications/anaconda3/lib/python3.7/site-packages/ipykernel_launcher.py:1: SettingWithCopyWarning: \n",
      "A value is trying to be set on a copy of a slice from a DataFrame.\n",
      "Try using .loc[row_indexer,col_indexer] = value instead\n",
      "\n",
      "See the caveats in the documentation: https://pandas.pydata.org/pandas-docs/stable/user_guide/indexing.html#returning-a-view-versus-a-copy\n",
      "  \"\"\"Entry point for launching an IPython kernel.\n"
     ]
    },
    {
     "data": {
      "text/plain": [
       "1    10853\n",
       "0     6800\n",
       "Name: passResult, dtype: int64"
      ]
     },
     "execution_count": 20,
     "metadata": {},
     "output_type": "execute_result"
    }
   ],
   "source": [
    "df6['passResult'] = np.where(df6['passResult'] == 'C', 1,0)\n",
    "df6.passResult.value_counts()"
   ]
  },
  {
   "cell_type": "markdown",
   "metadata": {},
   "source": [
    "### Export data"
   ]
  },
  {
   "cell_type": "code",
   "execution_count": 124,
   "metadata": {},
   "outputs": [
    {
     "name": "stdout",
     "output_type": "stream",
     "text": [
      "Dataframe has been exported to finaldata.csv in boost_models>data\n"
     ]
    }
   ],
   "source": [
    "df6.to_csv('boost_models/data/finaldata_w_xy.csv')\n",
    "print('Dataframe has been exported to finaldata.csv in boost_models>data')"
   ]
  },
  {
   "cell_type": "code",
   "execution_count": 74,
   "metadata": {},
   "outputs": [
    {
     "data": {
      "text/plain": [
       "gameId                     2018090600\n",
       "playId                             75\n",
       "x                               91.36\n",
       "y                               44.14\n",
       "nflId                     2.49545e+06\n",
       "event                       ball_snap\n",
       "displayName               Julio Jones\n",
       "position                           WR\n",
       "frameId                            11\n",
       "route                           HITCH\n",
       "targetNflId               2.49545e+06\n",
       "Opp_Dist                      7.47286\n",
       "closestOpp_Id             2.55538e+06\n",
       "Team_Dist                     8.00105\n",
       "closestTeam_Id            2.53304e+06\n",
       "QB_Dist                       17.4741\n",
       "closestQB_Id                      310\n",
       "FootDist                      17.3351\n",
       "quarter                             1\n",
       "down                                1\n",
       "yardsToGo                          15\n",
       "defendersInTheBox                   7\n",
       "numberOfPassRushers                 4\n",
       "absoluteYardlineNumber             90\n",
       "passResult                          1\n",
       "penalty                             0\n",
       "height                             75\n",
       "weight                            220\n",
       "Name: 0, dtype: object"
      ]
     },
     "execution_count": 74,
     "metadata": {},
     "output_type": "execute_result"
    }
   ],
   "source": [
    "df6.iloc[0]"
   ]
  },
  {
   "cell_type": "markdown",
   "metadata": {},
   "source": [
    "#### Make dummies for position"
   ]
  },
  {
   "cell_type": "code",
   "execution_count": 21,
   "metadata": {
    "scrolled": true
   },
   "outputs": [
    {
     "data": {
      "text/plain": [
       "(17653, 54)"
      ]
     },
     "execution_count": 21,
     "metadata": {},
     "output_type": "execute_result"
    }
   ],
   "source": [
    "df7 = pd.get_dummies(df6, columns=['position','route'])\n",
    "df7.shape"
   ]
  },
  {
   "cell_type": "code",
   "execution_count": 22,
   "metadata": {},
   "outputs": [
    {
     "data": {
      "text/plain": [
       "(17639, 54)"
      ]
     },
     "execution_count": 22,
     "metadata": {},
     "output_type": "execute_result"
    }
   ],
   "source": [
    "# filter out plays with undefined route\n",
    "df8 = df7[df7['route_undefined']!=1]\n",
    "df8.shape"
   ]
  },
  {
   "cell_type": "code",
   "execution_count": 24,
   "metadata": {},
   "outputs": [
    {
     "name": "stdout",
     "output_type": "stream",
     "text": [
      "Dataframe has been exported to finaldata_w_xy_and_dummies in boost_models>data\n"
     ]
    }
   ],
   "source": [
    "df9.to_csv('boost_models/data/finaldata_w_xy_and_dummies.csv')\n",
    "print('Dataframe has been exported to finaldata_w_xy_and_dummies in boost_models>data')"
   ]
  },
  {
   "cell_type": "code",
   "execution_count": null,
   "metadata": {},
   "outputs": [],
   "source": [
    "df9.columns"
   ]
  },
  {
   "cell_type": "code",
   "execution_count": 23,
   "metadata": {},
   "outputs": [
    {
     "ename": "NameError",
     "evalue": "name 'df9' is not defined",
     "output_type": "error",
     "traceback": [
      "\u001b[0;31m---------------------------------------------------------------------------\u001b[0m",
      "\u001b[0;31mNameError\u001b[0m                                 Traceback (most recent call last)",
      "\u001b[0;32m<ipython-input-23-53e5291caa75>\u001b[0m in \u001b[0;36m<module>\u001b[0;34m\u001b[0m\n\u001b[0;32m----> 1\u001b[0;31m \u001b[0mdf9\u001b[0m\u001b[0;34m.\u001b[0m\u001b[0miloc\u001b[0m\u001b[0;34m[\u001b[0m\u001b[0;36m0\u001b[0m\u001b[0;34m]\u001b[0m\u001b[0;34m\u001b[0m\u001b[0;34m\u001b[0m\u001b[0m\n\u001b[0m",
      "\u001b[0;31mNameError\u001b[0m: name 'df9' is not defined"
     ]
    }
   ],
   "source": [
    "df9.iloc[0]"
   ]
  },
  {
   "cell_type": "code",
   "execution_count": null,
   "metadata": {},
   "outputs": [],
   "source": []
  }
 ],
 "metadata": {
  "kernelspec": {
   "display_name": "Python 3",
   "language": "python",
   "name": "python3"
  },
  "language_info": {
   "codemirror_mode": {
    "name": "ipython",
    "version": 3
   },
   "file_extension": ".py",
   "mimetype": "text/x-python",
   "name": "python",
   "nbconvert_exporter": "python",
   "pygments_lexer": "ipython3",
   "version": "3.7.6"
  }
 },
 "nbformat": 4,
 "nbformat_minor": 4
}

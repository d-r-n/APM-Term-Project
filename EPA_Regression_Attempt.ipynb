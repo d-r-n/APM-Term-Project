{
 "cells": [
  {
   "cell_type": "code",
   "execution_count": 25,
   "metadata": {},
   "outputs": [],
   "source": [
    "import pandas as pd\n",
    "import numpy as np\n",
    "from xgboost import XGBClassifier\n",
    "import xgboost as xgb\n",
    "from sklearn.model_selection import train_test_split\n",
    "from sklearn.metrics import plot_roc_curve, auc, roc_auc_score\n",
    "from sklearn.metrics import confusion_matrix, classification_report, r2_score\n",
    "import matplotlib.pyplot as plt\n",
    "from sklearn.metrics import plot_confusion_matrix\n",
    "import seaborn as sns\n",
    "from sklearn.model_selection import GridSearchCV\n",
    "from scipy import stats\n",
    "\n",
    "from xgboost import XGBRegressor"
   ]
  },
  {
   "cell_type": "code",
   "execution_count": 26,
   "metadata": {},
   "outputs": [],
   "source": [
    "df = pd.read_csv('/Users/alexmcgraw/Documents/Adv_Predictive_Modeling/Final_Presentation/Processed data/finaldata_w_xy_and_dummies.csv')"
   ]
  },
  {
   "cell_type": "code",
   "execution_count": 27,
   "metadata": {},
   "outputs": [
    {
     "data": {
      "text/plain": [
       "Index(['Unnamed: 0', 'gameId', 'playId', 'x', 'y', 'nflId', 'event',\n",
       "       'displayName', 'frameId', 'targetNflId', 'Opp_Dist', 'closestOpp_Id',\n",
       "       'Team_Dist', 'closestTeam_Id', 'QB_Dist', 'closestQB_Id', 'FootDist',\n",
       "       'quarter', 'down', 'yardsToGo', 'defendersInTheBox',\n",
       "       'numberOfPassRushers', 'absoluteYardlineNumber', 'passResult',\n",
       "       'penalty', 'offensePlayResult', 'epa', 'playResult', 'isDefensivePI',\n",
       "       'height', 'weight', 'position_CB', 'position_DB', 'position_DE',\n",
       "       'position_DT', 'position_FB', 'position_HB', 'position_K',\n",
       "       'position_QB', 'position_RB', 'position_TE', 'position_WR',\n",
       "       'route_ANGLE', 'route_CORNER', 'route_CROSS', 'route_FLAT', 'route_GO',\n",
       "       'route_HITCH', 'route_IN', 'route_OUT', 'route_POST', 'route_SCREEN',\n",
       "       'route_SLANT', 'route_WHEEL', 'route_undefined'],\n",
       "      dtype='object')"
      ]
     },
     "execution_count": 27,
     "metadata": {},
     "output_type": "execute_result"
    }
   ],
   "source": [
    "#df.drop('Unnamed: 0', axis=1, inplace=True)\n",
    "df.columns"
   ]
  },
  {
   "cell_type": "code",
   "execution_count": 28,
   "metadata": {},
   "outputs": [],
   "source": [
    "df = df[['offensePlayResult','quarter','down','yardsToGo','Opp_Dist','Team_Dist','QB_Dist','FootDist',\\\n",
    "           'defendersInTheBox','numberOfPassRushers','height','weight','position_CB', 'position_DB', \\\n",
    "           'position_DE', 'position_DT','position_FB', 'position_HB', 'position_K', 'position_QB', \\\n",
    "           'position_RB', 'position_TE', 'position_WR', 'route_ANGLE','route_CORNER', 'route_CROSS', \\\n",
    "           'route_FLAT', 'route_GO', 'route_HITCH', 'route_IN', 'route_OUT', 'route_POST', \\\n",
    "           'route_SCREEN', 'route_SLANT','route_WHEEL',]]"
   ]
  },
  {
   "cell_type": "code",
   "execution_count": 29,
   "metadata": {},
   "outputs": [],
   "source": [
    "# format heigh to number in inches\n",
    "height_dict = {'5-10':70,'6-5':77, '6-4':76, '6-3':75, '6-2':74, '6-1':73, '6-0':72, '5-11':71, \\\n",
    "               '5-9':69, '5-8':68, '5-7':67, '5-6':66,'6-7':79,'6-6':78,'64':64,'65':65,'66':66,'67':67,'68':68, \\\n",
    "              '69':69,'70':70,'71':71,'72':72,'73':73,'74':74,'75':75,'76':76,'77':77,'78':78,'79':79,'80':80}\n",
    "df['height'] = df['height'].map(height_dict) "
   ]
  },
  {
   "cell_type": "code",
   "execution_count": 30,
   "metadata": {},
   "outputs": [
    {
     "name": "stdout",
     "output_type": "stream",
     "text": [
      "Train observations:  9921\n",
      "Validation observations:  3308\n",
      "Test observations:  4410\n"
     ]
    }
   ],
   "source": [
    "# Split data into train, validation, test\n",
    "X = df.drop(['offensePlayResult',], axis=1)\n",
    "y = df['offensePlayResult']\n",
    "\n",
    "X_train_val, X_test, y_train_val, y_test = train_test_split(X, y, test_size=0.25, shuffle=True, random_state=42)\n",
    "X_train, X_val, y_train, y_val = train_test_split(X_train_val, y_train_val, test_size=0.25, shuffle=True, random_state=42)\n",
    "\n",
    "feature_names = X.columns\n",
    "X_train = pd.DataFrame(data=X_train, columns=feature_names)\n",
    "X_val = pd.DataFrame(data=X_val, columns=feature_names)\n",
    "\n",
    "print('Train observations: ',len(X_train))\n",
    "print('Validation observations: ',len(X_val))\n",
    "print('Test observations: ',len(X_test))"
   ]
  },
  {
   "cell_type": "code",
   "execution_count": 124,
   "metadata": {},
   "outputs": [],
   "source": [
    "param_dist = {'n_estimators': [stats.randint(150, 500)],\n",
    "              'learning_rate': [stats.uniform(0.01, 0.07)],\n",
    "              'subsample': [stats.uniform(0.3, 0.7)],\n",
    "              'max_depth': [3, 4, 5, 6, 7, 8, 9],\n",
    "              'colsample_bytree': [stats.uniform(0.5, 0.45)],\n",
    "              'min_child_weight': [1, 2, 3]\n",
    "             }\n",
    "\n",
    "params = {'min_child_weight':[4,5],\n",
    "          'subsample':[i/10.0 for i in range(6,11)],\n",
    "            'colsample_bytree':[i/10.0 for i in range(6,11)],\n",
    "          'max_depth': [2,3,4]}\n",
    "\n",
    "reg_CV = XGBRegressor()"
   ]
  },
  {
   "cell_type": "code",
   "execution_count": 31,
   "metadata": {},
   "outputs": [
    {
     "ename": "NameError",
     "evalue": "name 'reg_CV' is not defined",
     "output_type": "error",
     "traceback": [
      "\u001b[0;31m---------------------------------------------------------------------------\u001b[0m",
      "\u001b[0;31mNameError\u001b[0m                                 Traceback (most recent call last)",
      "\u001b[0;32m<ipython-input-31-cf7f10e76ac0>\u001b[0m in \u001b[0;36m<module>\u001b[0;34m\u001b[0m\n\u001b[0;32m----> 1\u001b[0;31m \u001b[0mreg_CV_run\u001b[0m \u001b[0;34m=\u001b[0m \u001b[0mGridSearchCV\u001b[0m\u001b[0;34m(\u001b[0m\u001b[0mreg_CV\u001b[0m\u001b[0;34m,\u001b[0m \u001b[0mparams\u001b[0m\u001b[0;34m)\u001b[0m\u001b[0;34m\u001b[0m\u001b[0;34m\u001b[0m\u001b[0m\n\u001b[0m\u001b[1;32m      2\u001b[0m \u001b[0mreg_CV_run\u001b[0m\u001b[0;34m.\u001b[0m\u001b[0mfit\u001b[0m\u001b[0;34m(\u001b[0m\u001b[0mX_train\u001b[0m\u001b[0;34m,\u001b[0m \u001b[0my_train\u001b[0m\u001b[0;34m)\u001b[0m\u001b[0;34m\u001b[0m\u001b[0;34m\u001b[0m\u001b[0m\n",
      "\u001b[0;31mNameError\u001b[0m: name 'reg_CV' is not defined"
     ]
    }
   ],
   "source": [
    "reg_CV_run = GridSearchCV(reg_CV, params)\n",
    "reg_CV_run.fit(X_train, y_train)"
   ]
  },
  {
   "cell_type": "code",
   "execution_count": 126,
   "metadata": {},
   "outputs": [
    {
     "data": {
      "text/plain": [
       "{'colsample_bytree': 0.9,\n",
       " 'max_depth': 2,\n",
       " 'min_child_weight': 4,\n",
       " 'subsample': 1.0}"
      ]
     },
     "execution_count": 126,
     "metadata": {},
     "output_type": "execute_result"
    }
   ],
   "source": [
    "reg_CV_run.best_params_"
   ]
  },
  {
   "cell_type": "code",
   "execution_count": 32,
   "metadata": {},
   "outputs": [],
   "source": [
    "from sklearn.metrics import mean_absolute_error, mean_squared_error\n",
    "\n",
    "finalized_CV = XGBRegressor(colsample_bytree= 0.9,\n",
    " max_depth= 2,\n",
    " min_child_weight= 4,\n",
    " subsample= 1.0).fit(X_train, y_train)\n",
    "\n",
    "CV_pred = finalized_CV.predict(X_test)"
   ]
  },
  {
   "cell_type": "code",
   "execution_count": 33,
   "metadata": {},
   "outputs": [
    {
     "data": {
      "text/plain": [
       "0.14740424817310316"
      ]
     },
     "execution_count": 33,
     "metadata": {},
     "output_type": "execute_result"
    }
   ],
   "source": [
    "r2_score(y_test, CV_pred)"
   ]
  },
  {
   "cell_type": "code",
   "execution_count": 34,
   "metadata": {},
   "outputs": [
    {
     "data": {
      "text/plain": [
       "6.694917046084425"
      ]
     },
     "execution_count": 34,
     "metadata": {},
     "output_type": "execute_result"
    }
   ],
   "source": [
    "mean_absolute_error(y_test, CV_pred)"
   ]
  },
  {
   "cell_type": "code",
   "execution_count": 35,
   "metadata": {},
   "outputs": [
    {
     "data": {
      "text/plain": [
       "92.91704423920368"
      ]
     },
     "execution_count": 35,
     "metadata": {},
     "output_type": "execute_result"
    }
   ],
   "source": [
    "mean_squared_error(y_test, CV_pred)"
   ]
  },
  {
   "cell_type": "code",
   "execution_count": 36,
   "metadata": {},
   "outputs": [],
   "source": [
    "def mean_absolute_percentage_error(y_true, y_pred): \n",
    "\n",
    "\n",
    "    ## Note: does not handle mix 1d representation\n",
    "    #if _is_1d(y_true): \n",
    "    #    y_true, y_pred = _check_1d_array(y_true, y_pred)\n",
    "\n",
    "    return np.mean(np.abs((y_true - y_pred) / y_true)) * 100"
   ]
  },
  {
   "cell_type": "code",
   "execution_count": 37,
   "metadata": {},
   "outputs": [
    {
     "data": {
      "text/plain": [
       "inf"
      ]
     },
     "execution_count": 37,
     "metadata": {},
     "output_type": "execute_result"
    }
   ],
   "source": [
    "mean_absolute_percentage_error(y_test, CV_pred)"
   ]
  },
  {
   "cell_type": "code",
   "execution_count": null,
   "metadata": {},
   "outputs": [],
   "source": []
  }
 ],
 "metadata": {
  "kernelspec": {
   "display_name": "Python 3",
   "language": "python",
   "name": "python3"
  },
  "language_info": {
   "codemirror_mode": {
    "name": "ipython",
    "version": 3
   },
   "file_extension": ".py",
   "mimetype": "text/x-python",
   "name": "python",
   "nbconvert_exporter": "python",
   "pygments_lexer": "ipython3",
   "version": "3.7.3"
  }
 },
 "nbformat": 4,
 "nbformat_minor": 2
}

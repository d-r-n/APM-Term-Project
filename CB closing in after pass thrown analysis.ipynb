{
 "cells": [
  {
   "cell_type": "code",
   "execution_count": 77,
   "metadata": {},
   "outputs": [],
   "source": [
    "import pandas as pd\n",
    "import numpy as np\n",
    "import matplotlib.pyplot as plt\n",
    "%matplotlib inline"
   ]
  },
  {
   "cell_type": "code",
   "execution_count": 103,
   "metadata": {},
   "outputs": [],
   "source": [
    "df=pd.read_csv('nfl-big-data-bowl-2021/cb_wr.csv')\n",
    "df=df.drop(columns='Unnamed: 0')\n",
    "df=df.sort_values(by=['gameId','playId','frameId'],ascending=False)"
   ]
  },
  {
   "cell_type": "code",
   "execution_count": 105,
   "metadata": {},
   "outputs": [
    {
     "data": {
      "text/plain": [
       "time                                               2018-12-31T00:23:39.700Z\n",
       "x                                                                     65.39\n",
       "y                                                                     26.03\n",
       "s                                                                       3.4\n",
       "a                                                                      3.07\n",
       "dis                                                                    0.35\n",
       "o                                                                    183.33\n",
       "dir                                                                  180.97\n",
       "event                                                          pass_arrived\n",
       "nflId                                                            2.4955e+06\n",
       "displayName                                                Patrick Peterson\n",
       "jerseyNumber                                                             21\n",
       "position                                                                 CB\n",
       "frameId                                                                  70\n",
       "team                                                                   away\n",
       "gameId                                                           2018123015\n",
       "playId                                                                 4104\n",
       "playDirection                                                         right\n",
       "route                                                                   NaN\n",
       "gameDate                                                         12/30/2018\n",
       "gameTimeEastern                                                    16:25:00\n",
       "homeTeamAbbr                                                            SEA\n",
       "visitorTeamAbbr                                                         ARI\n",
       "week                                                                     17\n",
       "playDescription           (1:02) (No Huddle, Shotgun) R.Wilson pass deep...\n",
       "quarter                                                                   4\n",
       "down                                                                      1\n",
       "yardsToGo                                                                10\n",
       "possessionTeam                                                          SEA\n",
       "playType                                                     play_type_pass\n",
       "yardlineSide                                                            SEA\n",
       "yardlineNumber                                                           38\n",
       "offenseFormation                                                    SHOTGUN\n",
       "personnelO                                                 1 RB, 1 TE, 3 WR\n",
       "defendersInTheBox                                                         7\n",
       "numberOfPassRushers                                                       5\n",
       "personnelD                                                 4 DL, 2 LB, 5 DB\n",
       "typeDropback                                         SCRAMBLE_ROLLOUT_RIGHT\n",
       "preSnapVisitorScore                                                      24\n",
       "preSnapHomeScore                                                         24\n",
       "gameClock                                                          01:02:00\n",
       "absoluteYardlineNumber                                                   48\n",
       "penaltyCodes                                                            NaN\n",
       "penaltyJerseyNumbers                                                    NaN\n",
       "passResult                                                                C\n",
       "offensePlayResult                                                        37\n",
       "playResult                                                               37\n",
       "epa                                                                 1.82707\n",
       "isDefensivePI                                                         False\n",
       "homeTeamFlag                                                              0\n",
       "teamAbbr                                                                ARI\n",
       "positionGroup                                                            DB\n",
       "Name: 145222, dtype: object"
      ]
     },
     "execution_count": 105,
     "metadata": {},
     "output_type": "execute_result"
    }
   ],
   "source": [
    "df.iloc[0]"
   ]
  },
  {
   "cell_type": "code",
   "execution_count": 218,
   "metadata": {},
   "outputs": [
    {
     "data": {
      "text/plain": [
       "[2018123015, 2018123014, 2018123013, 2018123012, 2018123011]"
      ]
     },
     "execution_count": 218,
     "metadata": {},
     "output_type": "execute_result"
    }
   ],
   "source": [
    "#list of games\n",
    "games = list(df['gameId'].unique())\n",
    "games[0:5]"
   ]
  },
  {
   "cell_type": "code",
   "execution_count": 219,
   "metadata": {},
   "outputs": [
    {
     "data": {
      "text/plain": [
       "[{2018123015: 4104},\n",
       " {2018123015: 4057},\n",
       " {2018123015: 3969},\n",
       " {2018123015: 3819},\n",
       " {2018123015: 3794}]"
      ]
     },
     "execution_count": 219,
     "metadata": {},
     "output_type": "execute_result"
    }
   ],
   "source": [
    "# dictionary with each game as key and play as a value\n",
    "game_play = df[['gameId','playId']].drop_duplicates()\n",
    "play_dict = [{k:v} for k, v in game_play.iloc[:,[0,1]].values]\n",
    "play_dict[0:5]"
   ]
  },
  {
   "cell_type": "code",
   "execution_count": null,
   "metadata": {},
   "outputs": [],
   "source": []
  },
  {
   "cell_type": "markdown",
   "metadata": {},
   "source": [
    "### OLD STUFF"
   ]
  },
  {
   "cell_type": "code",
   "execution_count": 106,
   "metadata": {},
   "outputs": [],
   "source": [
    "df1 = df[df['gameId']==2018123015]"
   ]
  },
  {
   "cell_type": "code",
   "execution_count": 118,
   "metadata": {},
   "outputs": [],
   "source": [
    "df2 = df1[['playId','frameId','position','teamAbbr','x','y']]"
   ]
  },
  {
   "cell_type": "code",
   "execution_count": null,
   "metadata": {},
   "outputs": [],
   "source": [
    "# for each play:\n",
    "    # for each frame in a play:\n",
    "        # plot the x,y coordinates of CBs a WRs (teams in different colors)"
   ]
  },
  {
   "cell_type": "code",
   "execution_count": 119,
   "metadata": {},
   "outputs": [
    {
     "name": "stderr",
     "output_type": "stream",
     "text": [
      "/Applications/anaconda3/lib/python3.7/site-packages/ipykernel_launcher.py:4: UserWarning: Boolean Series key will be reindexed to match DataFrame index.\n",
      "  after removing the cwd from sys.path.\n"
     ]
    },
    {
     "data": {
      "text/html": [
       "<div>\n",
       "<style scoped>\n",
       "    .dataframe tbody tr th:only-of-type {\n",
       "        vertical-align: middle;\n",
       "    }\n",
       "\n",
       "    .dataframe tbody tr th {\n",
       "        vertical-align: top;\n",
       "    }\n",
       "\n",
       "    .dataframe thead th {\n",
       "        text-align: right;\n",
       "    }\n",
       "</style>\n",
       "<table border=\"1\" class=\"dataframe\">\n",
       "  <thead>\n",
       "    <tr style=\"text-align: right;\">\n",
       "      <th></th>\n",
       "      <th>playId</th>\n",
       "      <th>frameId</th>\n",
       "      <th>position</th>\n",
       "      <th>teamAbbr</th>\n",
       "      <th>x</th>\n",
       "      <th>y</th>\n",
       "    </tr>\n",
       "  </thead>\n",
       "  <tbody>\n",
       "    <tr>\n",
       "      <th>145222</th>\n",
       "      <td>4104</td>\n",
       "      <td>70</td>\n",
       "      <td>CB</td>\n",
       "      <td>ARI</td>\n",
       "      <td>65.39</td>\n",
       "      <td>26.03</td>\n",
       "    </tr>\n",
       "    <tr>\n",
       "      <th>145223</th>\n",
       "      <td>4104</td>\n",
       "      <td>70</td>\n",
       "      <td>WR</td>\n",
       "      <td>SEA</td>\n",
       "      <td>66.38</td>\n",
       "      <td>10.55</td>\n",
       "    </tr>\n",
       "    <tr>\n",
       "      <th>145224</th>\n",
       "      <td>4104</td>\n",
       "      <td>70</td>\n",
       "      <td>CB</td>\n",
       "      <td>ARI</td>\n",
       "      <td>69.42</td>\n",
       "      <td>3.25</td>\n",
       "    </tr>\n",
       "    <tr>\n",
       "      <th>145225</th>\n",
       "      <td>4104</td>\n",
       "      <td>70</td>\n",
       "      <td>WR</td>\n",
       "      <td>SEA</td>\n",
       "      <td>80.98</td>\n",
       "      <td>3.39</td>\n",
       "    </tr>\n",
       "    <tr>\n",
       "      <th>145226</th>\n",
       "      <td>4104</td>\n",
       "      <td>70</td>\n",
       "      <td>WR</td>\n",
       "      <td>SEA</td>\n",
       "      <td>63.77</td>\n",
       "      <td>25.46</td>\n",
       "    </tr>\n",
       "  </tbody>\n",
       "</table>\n",
       "</div>"
      ],
      "text/plain": [
       "        playId  frameId position teamAbbr      x      y\n",
       "145222    4104       70       CB      ARI  65.39  26.03\n",
       "145223    4104       70       WR      SEA  66.38  10.55\n",
       "145224    4104       70       CB      ARI  69.42   3.25\n",
       "145225    4104       70       WR      SEA  80.98   3.39\n",
       "145226    4104       70       WR      SEA  63.77  25.46"
      ]
     },
     "execution_count": 119,
     "metadata": {},
     "output_type": "execute_result"
    }
   ],
   "source": [
    "play = 4057\n",
    "frame = 70\n",
    "\n",
    "testdf = df2[df2['playId']==play][df2['frameId']==frame]\n",
    "testdf"
   ]
  },
  {
   "cell_type": "code",
   "execution_count": 125,
   "metadata": {},
   "outputs": [
    {
     "data": {
      "text/plain": [
       "<matplotlib.collections.PathCollection at 0x7ffc1afd2810>"
      ]
     },
     "execution_count": 125,
     "metadata": {},
     "output_type": "execute_result"
    },
    {
     "data": {
      "image/png": "[encoded data removed]",
      "text/plain": [
       "<Figure size 640x480 with 1 Axes>"
      ]
     },
     "metadata": {},
     "output_type": "display_data"
    }
   ],
   "source": [
    "from matplotlib.pyplot import figure\n",
    "figure(num=None, figsize=(8, 6), dpi=80, facecolor='w', edgecolor='k')\n",
    "plt.scatter(testdf['x'], testdf['y'], c=testdf['y'])"
   ]
  },
  {
   "cell_type": "code",
   "execution_count": 86,
   "metadata": {},
   "outputs": [
    {
     "data": {
      "text/plain": [
       "frameId\n",
       "21    AxesSubplot(0.125,0.125;0.775x0.755)\n",
       "25    AxesSubplot(0.125,0.125;0.775x0.755)\n",
       "29    AxesSubplot(0.125,0.125;0.775x0.755)\n",
       "30    AxesSubplot(0.125,0.125;0.775x0.755)\n",
       "31    AxesSubplot(0.125,0.125;0.775x0.755)\n",
       "32    AxesSubplot(0.125,0.125;0.775x0.755)\n",
       "34    AxesSubplot(0.125,0.125;0.775x0.755)\n",
       "36    AxesSubplot(0.125,0.125;0.775x0.755)\n",
       "38    AxesSubplot(0.125,0.125;0.775x0.755)\n",
       "40    AxesSubplot(0.125,0.125;0.775x0.755)\n",
       "45    AxesSubplot(0.125,0.125;0.775x0.755)\n",
       "46    AxesSubplot(0.125,0.125;0.775x0.755)\n",
       "47    AxesSubplot(0.125,0.125;0.775x0.755)\n",
       "50    AxesSubplot(0.125,0.125;0.775x0.755)\n",
       "58    AxesSubplot(0.125,0.125;0.775x0.755)\n",
       "dtype: object"
      ]
     },
     "execution_count": 86,
     "metadata": {},
     "output_type": "execute_result"
    },
    {
     "data": {
      "image/png": "[encoded data removed]",
      "text/plain": [
       "<Figure size 432x288 with 1 Axes>"
      ]
     },
     "metadata": {
      "needs_background": "light"
     },
     "output_type": "display_data"
    },
    {
     "data": {
      "image/png": "[encoded data removed]",
      "text/plain": [
       "<Figure size 432x288 with 1 Axes>"
      ]
     },
     "metadata": {
      "needs_background": "light"
     },
     "output_type": "display_data"
    },
    {
     "data": {
      "image/png": "[encoded data removed]",
      "text/plain": [
       "<Figure size 432x288 with 1 Axes>"
      ]
     },
     "metadata": {
      "needs_background": "light"
     },
     "output_type": "display_data"
    },
    {
     "data": {
      "image/png": "[encoded data removed]",
      "text/plain": [
       "<Figure size 432x288 with 1 Axes>"
      ]
     },
     "metadata": {
      "needs_background": "light"
     },
     "output_type": "display_data"
    },
    {
     "data": {
      "image/png": "[encoded data removed]",
      "text/plain": [
       "<Figure size 432x288 with 1 Axes>"
      ]
     },
     "metadata": {
      "needs_background": "light"
     },
     "output_type": "display_data"
    },
    {
     "data": {
      "image/png": "[encoded data removed]",
      "text/plain": [
       "<Figure size 432x288 with 1 Axes>"
      ]
     },
     "metadata": {
      "needs_background": "light"
     },
     "output_type": "display_data"
    },
    {
     "data": {
      "image/png": "[encoded data removed]",
      "text/plain": [
       "<Figure size 432x288 with 1 Axes>"
      ]
     },
     "metadata": {
      "needs_background": "light"
     },
     "output_type": "display_data"
    },
    {
     "data": {
      "image/png": "[encoded data removed]",
      "text/plain": [
       "<Figure size 432x288 with 1 Axes>"
      ]
     },
     "metadata": {
      "needs_background": "light"
     },
     "output_type": "display_data"
    },
    {
     "data": {
      "image/png": "[encoded data removed]",
      "text/plain": [
       "<Figure size 432x288 with 1 Axes>"
      ]
     },
     "metadata": {
      "needs_background": "light"
     },
     "output_type": "display_data"
    },
    {
     "data": {
      "image/png": "[encoded data removed]",
      "text/plain": [
       "<Figure size 432x288 with 1 Axes>"
      ]
     },
     "metadata": {
      "needs_background": "light"
     },
     "output_type": "display_data"
    },
    {
     "data": {
      "image/png": "[encoded data removed]",
      "text/plain": [
       "<Figure size 432x288 with 1 Axes>"
      ]
     },
     "metadata": {
      "needs_background": "light"
     },
     "output_type": "display_data"
    },
    {
     "data": {
      "image/png": "[encoded data removed]",
      "text/plain": [
       "<Figure size 432x288 with 1 Axes>"
      ]
     },
     "metadata": {
      "needs_background": "light"
     },
     "output_type": "display_data"
    },
    {
     "data": {
      "image/png": "[encoded data removed]",
      "text/plain": [
       "<Figure size 432x288 with 1 Axes>"
      ]
     },
     "metadata": {
      "needs_background": "light"
     },
     "output_type": "display_data"
    },
    {
     "data": {
      "image/png": "[encoded data removed]",
      "text/plain": [
       "<Figure size 432x288 with 1 Axes>"
      ]
     },
     "metadata": {
      "needs_background": "light"
     },
     "output_type": "display_data"
    },
    {
     "data": {
      "image/png": "[encoded data removed]",
      "text/plain": [
       "<Figure size 432x288 with 1 Axes>"
      ]
     },
     "metadata": {
      "needs_background": "light"
     },
     "output_type": "display_data"
    }
   ],
   "source": [
    "df1.groupby('frameId').plot(x='x', y='y', style='o')"
   ]
  },
  {
   "cell_type": "code",
   "execution_count": 124,
   "metadata": {},
   "outputs": [
    {
     "data": {
      "text/plain": [
       "<Figure size 640x480 with 0 Axes>"
      ]
     },
     "execution_count": 124,
     "metadata": {},
     "output_type": "execute_result"
    },
    {
     "data": {
      "text/plain": [
       "<Figure size 640x480 with 0 Axes>"
      ]
     },
     "metadata": {},
     "output_type": "display_data"
    }
   ],
   "source": [
    "from matplotlib.pyplot import figure\n",
    "figure(num=None, figsize=(8, 6), dpi=80, facecolor='w', edgecolor='k')"
   ]
  },
  {
   "cell_type": "code",
   "execution_count": 48,
   "metadata": {},
   "outputs": [
    {
     "data": {
      "text/plain": [
       "(120720, 53)"
      ]
     },
     "execution_count": 48,
     "metadata": {},
     "output_type": "execute_result"
    }
   ],
   "source": [
    "# Python code to find Euclidean distance \n",
    "# using linalg.norm() \n",
    "\n",
    "# intializing points in \n",
    "# numpy arrays \n",
    "point1 = np.array((96.43, 96.43)) \n",
    "point2 = np.array((1, 1, 1)) \n",
    "\n",
    "# calculating Euclidean distance \n",
    "# using linalg.norm() \n",
    "dist = np.linalg.norm(point1 - point2) \n",
    "\n",
    "# printing Euclidean distance \n",
    "print(dist) "
   ]
  }
 ],
 "metadata": {
  "kernelspec": {
   "display_name": "Python 3",
   "language": "python",
   "name": "python3"
  },
  "language_info": {
   "codemirror_mode": {
    "name": "ipython",
    "version": 3
   },
   "file_extension": ".py",
   "mimetype": "text/x-python",
   "name": "python",
   "nbconvert_exporter": "python",
   "pygments_lexer": "ipython3",
   "version": "3.7.6"
  }
 },
 "nbformat": 4,
 "nbformat_minor": 4
}
